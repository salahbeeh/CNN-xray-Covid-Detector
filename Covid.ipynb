{
  "nbformat": 4,
  "nbformat_minor": 0,
  "metadata": {
    "colab": {
      "name": "Covid.ipynb",
      "provenance": [],
      "collapsed_sections": []
    },
    "kernelspec": {
      "name": "python3",
      "display_name": "Python 3"
    },
    "language_info": {
      "name": "python"
    },
    "accelerator": "GPU"
  },
  "cells": [
    {
      "cell_type": "code",
      "execution_count": null,
      "metadata": {
        "id": "oVRhnsiFXIjt"
      },
      "outputs": [],
      "source": [
        "#download dataset\n",
        "\n",
        "!wget https://drive.google.com/drive/folders/1vH8aQ8XGOlu9GBBs8NJGSqqriZfzs9Qk?usp=sharing"
      ]
    },
    {
      "cell_type": "code",
      "source": [
        "!unzip covidData.zip"
      ],
      "metadata": {
        "colab": {
          "base_uri": "https://localhost:8080/"
        },
        "id": "_jXkHy7GqqCJ",
        "outputId": "ca0ec410-f9d7-40a6-bd6a-0a855f02696c"
      },
      "execution_count": null,
      "outputs": [
        {
          "output_type": "stream",
          "name": "stdout",
          "text": [
            "Archive:  covidData.zip\n",
            "   creating: covidData/\n",
            "  inflating: covidData/.DS_Store     \n",
            "  inflating: __MACOSX/covidData/._.DS_Store  \n",
            "   creating: covidData/nonCovid/\n",
            "   creating: covidData/covid/\n",
            "  inflating: covidData/nonCovid/.DS_Store  \n",
            "  inflating: __MACOSX/covidData/nonCovid/._.DS_Store  \n",
            "   creating: covidData/nonCovid/test/\n",
            "   creating: covidData/nonCovid/train/\n",
            "  inflating: covidData/covid/.DS_Store  \n",
            "  inflating: __MACOSX/covidData/covid/._.DS_Store  \n",
            "   creating: covidData/covid/test/\n",
            "   creating: covidData/covid/train/\n",
            "  inflating: covidData/nonCovid/test/NORMAL2-IM-0500-0001.jpeg  \n",
            "  inflating: __MACOSX/covidData/nonCovid/test/._NORMAL2-IM-0500-0001.jpeg  \n",
            "  inflating: covidData/nonCovid/test/NORMAL2-IM-0980-0001.jpeg  \n",
            "  inflating: __MACOSX/covidData/nonCovid/test/._NORMAL2-IM-0980-0001.jpeg  \n",
            "  inflating: covidData/nonCovid/test/NORMAL2-IM-1019-0001.jpeg  \n",
            "  inflating: __MACOSX/covidData/nonCovid/test/._NORMAL2-IM-1019-0001.jpeg  \n",
            "  inflating: covidData/nonCovid/test/NORMAL2-IM-0409-0001.jpeg  \n",
            "  inflating: __MACOSX/covidData/nonCovid/test/._NORMAL2-IM-0409-0001.jpeg  \n",
            "  inflating: covidData/nonCovid/test/NORMAL2-IM-0592-0001.jpeg  \n",
            "  inflating: __MACOSX/covidData/nonCovid/test/._NORMAL2-IM-0592-0001.jpeg  \n",
            "  inflating: covidData/nonCovid/test/NORMAL2-IM-0651-0001.jpeg  \n",
            "  inflating: __MACOSX/covidData/nonCovid/test/._NORMAL2-IM-0651-0001.jpeg  \n",
            "  inflating: covidData/nonCovid/test/NORMAL2-IM-0577-0001.jpeg  \n",
            "  inflating: __MACOSX/covidData/nonCovid/test/._NORMAL2-IM-0577-0001.jpeg  \n",
            "  inflating: covidData/nonCovid/test/NORMAL2-IM-0950-0001.jpeg  \n",
            "  inflating: __MACOSX/covidData/nonCovid/test/._NORMAL2-IM-0950-0001.jpeg  \n",
            "  inflating: covidData/nonCovid/test/NORMAL2-IM-1203-0001.jpeg  \n",
            "  inflating: __MACOSX/covidData/nonCovid/test/._NORMAL2-IM-1203-0001.jpeg  \n",
            "  inflating: covidData/nonCovid/test/IM-0672-0001.jpeg  \n",
            "  inflating: __MACOSX/covidData/nonCovid/test/._IM-0672-0001.jpeg  \n",
            "  inflating: covidData/nonCovid/test/NORMAL2-IM-0965-0001.jpeg  \n",
            "  inflating: __MACOSX/covidData/nonCovid/test/._NORMAL2-IM-0965-0001.jpeg  \n",
            "  inflating: covidData/nonCovid/test/NORMAL2-IM-1152-0001.jpeg  \n",
            "  inflating: __MACOSX/covidData/nonCovid/test/._NORMAL2-IM-1152-0001.jpeg  \n",
            "  inflating: covidData/nonCovid/test/NORMAL2-IM-1222-0001.jpeg  \n",
            "  inflating: __MACOSX/covidData/nonCovid/test/._NORMAL2-IM-1222-0001.jpeg  \n",
            "  inflating: covidData/nonCovid/test/NORMAL2-IM-1128-0001.jpeg  \n",
            "  inflating: __MACOSX/covidData/nonCovid/test/._NORMAL2-IM-1128-0001.jpeg  \n",
            "  inflating: covidData/nonCovid/test/NORMAL2-IM-0626-0001.jpeg  \n",
            "  inflating: __MACOSX/covidData/nonCovid/test/._NORMAL2-IM-0626-0001.jpeg  \n",
            "  inflating: covidData/nonCovid/test/IM-0701-0001.jpeg  \n",
            "  inflating: __MACOSX/covidData/nonCovid/test/._IM-0701-0001.jpeg  \n",
            "  inflating: covidData/nonCovid/test/NORMAL2-IM-0580-0001.jpeg  \n",
            "  inflating: __MACOSX/covidData/nonCovid/test/._NORMAL2-IM-0580-0001.jpeg  \n",
            "  inflating: covidData/nonCovid/test/IM-0629-0001-0001.jpeg  \n",
            "  inflating: __MACOSX/covidData/nonCovid/test/._IM-0629-0001-0001.jpeg  \n",
            "  inflating: covidData/nonCovid/test/IM-0691-0001.jpeg  \n",
            "  inflating: __MACOSX/covidData/nonCovid/test/._IM-0691-0001.jpeg  \n",
            "  inflating: covidData/nonCovid/test/NORMAL2-IM-0475-0001.jpeg  \n",
            "  inflating: __MACOSX/covidData/nonCovid/test/._NORMAL2-IM-0475-0001.jpeg  \n",
            "  inflating: covidData/nonCovid/test/NORMAL2-IM-0395-0001.jpeg  \n",
            "  inflating: __MACOSX/covidData/nonCovid/test/._NORMAL2-IM-0395-0001.jpeg  \n",
            "  inflating: covidData/nonCovid/test/NORMAL2-IM-0440-0001.jpeg  \n",
            "  inflating: __MACOSX/covidData/nonCovid/test/._NORMAL2-IM-0440-0001.jpeg  \n",
            "  inflating: covidData/nonCovid/test/NORMAL2-IM-0992-0001.jpeg  \n",
            "  inflating: __MACOSX/covidData/nonCovid/test/._NORMAL2-IM-0992-0001.jpeg  \n",
            "  inflating: covidData/nonCovid/test/IM-0650-0001-0001.jpeg  \n",
            "  inflating: __MACOSX/covidData/nonCovid/test/._IM-0650-0001-0001.jpeg  \n",
            "  inflating: covidData/nonCovid/test/NORMAL2-IM-1050-0001.jpeg  \n",
            "  inflating: __MACOSX/covidData/nonCovid/test/._NORMAL2-IM-1050-0001.jpeg  \n",
            "  inflating: covidData/nonCovid/test/NORMAL2-IM-0618-0001.jpeg  \n",
            "  inflating: __MACOSX/covidData/nonCovid/test/._NORMAL2-IM-0618-0001.jpeg  \n",
            "  inflating: covidData/nonCovid/test/NORMAL2-IM-0634-0001.jpeg  \n",
            "  inflating: __MACOSX/covidData/nonCovid/test/._NORMAL2-IM-0634-0001.jpeg  \n",
            "  inflating: covidData/nonCovid/test/NORMAL2-IM-0478-0001.jpeg  \n",
            "  inflating: __MACOSX/covidData/nonCovid/test/._NORMAL2-IM-0478-0001.jpeg  \n",
            "  inflating: covidData/nonCovid/test/NORMAL2-IM-1224-0001.jpeg  \n",
            "  inflating: __MACOSX/covidData/nonCovid/test/._NORMAL2-IM-1224-0001.jpeg  \n",
            "  inflating: covidData/nonCovid/test/IM-0655-0001.jpeg  \n",
            "  inflating: __MACOSX/covidData/nonCovid/test/._IM-0655-0001.jpeg  \n",
            "  inflating: covidData/nonCovid/test/NORMAL2-IM-1102-0001-0002.jpeg  \n",
            "  inflating: __MACOSX/covidData/nonCovid/test/._NORMAL2-IM-1102-0001-0002.jpeg  \n",
            "  inflating: covidData/nonCovid/test/NORMAL2-IM-1362-0001.jpeg  \n",
            "  inflating: __MACOSX/covidData/nonCovid/test/._NORMAL2-IM-1362-0001.jpeg  \n",
            "  inflating: covidData/nonCovid/test/IM-0707-0001.jpeg  \n",
            "  inflating: __MACOSX/covidData/nonCovid/test/._IM-0707-0001.jpeg  \n",
            "  inflating: covidData/nonCovid/test/NORMAL2-IM-1006-0001.jpeg  \n",
            "  inflating: __MACOSX/covidData/nonCovid/test/._NORMAL2-IM-1006-0001.jpeg  \n",
            "  inflating: covidData/nonCovid/test/NORMAL2-IM-0831-0001.jpeg  \n",
            "  inflating: __MACOSX/covidData/nonCovid/test/._NORMAL2-IM-0831-0001.jpeg  \n",
            "  inflating: covidData/nonCovid/test/NORMAL2-IM-0693-0001.jpeg  \n",
            "  inflating: __MACOSX/covidData/nonCovid/test/._NORMAL2-IM-0693-0001.jpeg  \n",
            "  inflating: covidData/nonCovid/test/NORMAL2-IM-1027-0001.jpeg  \n",
            "  inflating: __MACOSX/covidData/nonCovid/test/._NORMAL2-IM-1027-0001.jpeg  \n",
            "  inflating: covidData/nonCovid/test/NORMAL2-IM-0571-0001.jpeg  \n",
            "  inflating: __MACOSX/covidData/nonCovid/test/._NORMAL2-IM-0571-0001.jpeg  \n",
            "  inflating: covidData/nonCovid/test/IM-0738-0001.jpeg  \n",
            "  inflating: __MACOSX/covidData/nonCovid/test/._IM-0738-0001.jpeg  \n",
            "  inflating: covidData/nonCovid/test/NORMAL2-IM-0453-0001.jpeg  \n",
            "  inflating: __MACOSX/covidData/nonCovid/test/._NORMAL2-IM-0453-0001.jpeg  \n",
            "  inflating: covidData/nonCovid/test/NORMAL2-IM-1043-0001.jpeg  \n",
            "  inflating: __MACOSX/covidData/nonCovid/test/._NORMAL2-IM-1043-0001.jpeg  \n",
            "  inflating: covidData/nonCovid/test/NORMAL2-IM-1111-0001.jpeg  \n",
            "  inflating: __MACOSX/covidData/nonCovid/test/._NORMAL2-IM-1111-0001.jpeg  \n",
            "  inflating: covidData/nonCovid/test/NORMAL2-IM-0447-0001.jpeg  \n",
            "  inflating: __MACOSX/covidData/nonCovid/test/._NORMAL2-IM-0447-0001.jpeg  \n",
            "  inflating: covidData/nonCovid/test/IM-0631-0001.jpeg  \n",
            "  inflating: __MACOSX/covidData/nonCovid/test/._IM-0631-0001.jpeg  \n",
            "  inflating: covidData/nonCovid/test/NORMAL2-IM-0466-0001.jpeg  \n",
            "  inflating: __MACOSX/covidData/nonCovid/test/._NORMAL2-IM-0466-0001.jpeg  \n",
            "  inflating: covidData/nonCovid/test/IM-0696-0001.jpeg  \n",
            "  inflating: __MACOSX/covidData/nonCovid/test/._IM-0696-0001.jpeg  \n",
            "  inflating: covidData/nonCovid/test/NORMAL2-IM-0969-0001.jpeg  \n",
            "  inflating: __MACOSX/covidData/nonCovid/test/._NORMAL2-IM-0969-0001.jpeg  \n",
            "  inflating: covidData/nonCovid/test/NORMAL2-IM-1254-0001.jpeg  \n",
            "  inflating: __MACOSX/covidData/nonCovid/test/._NORMAL2-IM-1254-0001.jpeg  \n",
            "  inflating: covidData/nonCovid/test/NORMAL2-IM-0945-0001.jpeg  \n",
            "  inflating: __MACOSX/covidData/nonCovid/test/._NORMAL2-IM-0945-0001.jpeg  \n",
            "  inflating: covidData/nonCovid/test/IM-0673-0001.jpeg  \n",
            "  inflating: __MACOSX/covidData/nonCovid/test/._IM-0673-0001.jpeg  \n",
            "  inflating: covidData/nonCovid/test/NORMAL2-IM-0627-0001.jpeg  \n",
            "  inflating: __MACOSX/covidData/nonCovid/test/._NORMAL2-IM-0627-0001.jpeg  \n",
            "  inflating: covidData/nonCovid/test/NORMAL2-IM-1001-0001.jpeg  \n",
            "  inflating: __MACOSX/covidData/nonCovid/test/._NORMAL2-IM-1001-0001.jpeg  \n",
            "  inflating: covidData/nonCovid/test/NORMAL2-IM-1223-0001.jpeg  \n",
            "  inflating: __MACOSX/covidData/nonCovid/test/._NORMAL2-IM-1223-0001.jpeg  \n",
            "  inflating: covidData/nonCovid/test/NORMAL2-IM-0526-0001.jpeg  \n",
            "  inflating: __MACOSX/covidData/nonCovid/test/._NORMAL2-IM-0526-0001.jpeg  \n",
            "  inflating: covidData/nonCovid/test/NORMAL2-IM-1252-0001.jpeg  \n",
            "  inflating: __MACOSX/covidData/nonCovid/test/._NORMAL2-IM-1252-0001.jpeg  \n",
            "  inflating: covidData/nonCovid/test/NORMAL2-IM-1191-0001.jpeg  \n",
            "  inflating: __MACOSX/covidData/nonCovid/test/._NORMAL2-IM-1191-0001.jpeg  \n",
            "  inflating: covidData/nonCovid/test/NORMAL2-IM-0474-0001.jpeg  \n",
            "  inflating: __MACOSX/covidData/nonCovid/test/._NORMAL2-IM-0474-0001.jpeg  \n",
            "  inflating: covidData/nonCovid/test/NORMAL2-IM-0796-0001.jpeg  \n",
            "  inflating: __MACOSX/covidData/nonCovid/test/._NORMAL2-IM-0796-0001.jpeg  \n",
            "  inflating: covidData/nonCovid/test/NORMAL2-IM-0987-0001.jpeg  \n",
            "  inflating: __MACOSX/covidData/nonCovid/test/._NORMAL2-IM-0987-0001.jpeg  \n",
            "  inflating: covidData/nonCovid/test/NORMAL2-IM-0663-0001.jpeg  \n",
            "  inflating: __MACOSX/covidData/nonCovid/test/._NORMAL2-IM-0663-0001.jpeg  \n",
            "  inflating: covidData/nonCovid/test/NORMAL2-IM-0808-0001.jpeg  \n",
            "  inflating: __MACOSX/covidData/nonCovid/test/._NORMAL2-IM-0808-0001.jpeg  \n",
            "  inflating: covidData/nonCovid/test/NORMAL2-IM-0507-0001.jpeg  \n",
            "  inflating: __MACOSX/covidData/nonCovid/test/._NORMAL2-IM-0507-0001.jpeg  \n",
            "  inflating: covidData/nonCovid/test/NORMAL2-IM-1117-0001.jpeg  \n",
            "  inflating: __MACOSX/covidData/nonCovid/test/._NORMAL2-IM-1117-0001.jpeg  \n",
            "  inflating: covidData/nonCovid/test/NORMAL2-IM-0830-0001.jpeg  \n",
            "  inflating: __MACOSX/covidData/nonCovid/test/._NORMAL2-IM-0830-0001.jpeg  \n",
            "  inflating: covidData/nonCovid/test/NORMAL2-IM-0918-0001.jpeg  \n",
            "  inflating: __MACOSX/covidData/nonCovid/test/._NORMAL2-IM-0918-0001.jpeg  \n",
            "  inflating: covidData/nonCovid/test/NORMAL2-IM-0545-0001.jpeg  \n",
            "  inflating: __MACOSX/covidData/nonCovid/test/._NORMAL2-IM-0545-0001.jpeg  \n",
            "  inflating: covidData/nonCovid/test/NORMAL2-IM-1026-0001.jpeg  \n",
            "  inflating: __MACOSX/covidData/nonCovid/test/._NORMAL2-IM-1026-0001.jpeg  \n",
            "  inflating: covidData/nonCovid/test/IM-0727-0001.jpeg  \n",
            "  inflating: __MACOSX/covidData/nonCovid/test/._IM-0727-0001.jpeg  \n",
            "  inflating: covidData/nonCovid/test/NORMAL2-IM-0399-0001.jpeg  \n",
            "  inflating: __MACOSX/covidData/nonCovid/test/._NORMAL2-IM-0399-0001.jpeg  \n",
            "  inflating: covidData/nonCovid/test/NORMAL2-IM-0856-0001.jpeg  \n",
            "  inflating: __MACOSX/covidData/nonCovid/test/._NORMAL2-IM-0856-0001.jpeg  \n",
            "  inflating: covidData/nonCovid/test/NORMAL2-IM-1127-0001.jpeg  \n",
            "  inflating: __MACOSX/covidData/nonCovid/test/._NORMAL2-IM-1127-0001.jpeg  \n",
            "  inflating: covidData/nonCovid/test/NORMAL2-IM-1243-0001.jpeg  \n",
            "  inflating: __MACOSX/covidData/nonCovid/test/._NORMAL2-IM-1243-0001.jpeg  \n",
            "  inflating: covidData/nonCovid/test/NORMAL2-IM-0838-0001.jpeg  \n",
            "  inflating: __MACOSX/covidData/nonCovid/test/._NORMAL2-IM-0838-0001.jpeg  \n",
            "  inflating: covidData/nonCovid/test/NORMAL2-IM-1262-0001.jpeg  \n",
            "  inflating: __MACOSX/covidData/nonCovid/test/._NORMAL2-IM-1262-0001.jpeg  \n",
            "  inflating: covidData/nonCovid/test/NORMAL2-IM-0578-0001.jpeg  \n",
            "  inflating: __MACOSX/covidData/nonCovid/test/._NORMAL2-IM-0578-0001.jpeg  \n",
            "  inflating: covidData/nonCovid/test/NORMAL2-IM-1168-0001.jpeg  \n",
            "  inflating: __MACOSX/covidData/nonCovid/test/._NORMAL2-IM-1168-0001.jpeg  \n",
            "  inflating: covidData/nonCovid/test/NORMAL2-IM-1150-0001.jpeg  \n",
            "  inflating: __MACOSX/covidData/nonCovid/test/._NORMAL2-IM-1150-0001.jpeg  \n",
            "  inflating: covidData/nonCovid/test/IM-0698-0001.jpeg  \n",
            "  inflating: __MACOSX/covidData/nonCovid/test/._IM-0698-0001.jpeg  \n",
            "  inflating: covidData/nonCovid/test/NORMAL2-IM-1293-0001.jpeg  \n",
            "  inflating: __MACOSX/covidData/nonCovid/test/._NORMAL2-IM-1293-0001.jpeg  \n",
            "  inflating: covidData/nonCovid/test/NORMAL2-IM-0406-0001.jpeg  \n",
            "  inflating: __MACOSX/covidData/nonCovid/test/._NORMAL2-IM-0406-0001.jpeg  \n",
            "  inflating: covidData/nonCovid/test/NORMAL2-IM-0540-0001.jpeg  \n",
            "  inflating: __MACOSX/covidData/nonCovid/test/._NORMAL2-IM-0540-0001.jpeg  \n",
            "  inflating: covidData/nonCovid/test/NORMAL2-IM-0776-0001.jpeg  \n",
            "  inflating: __MACOSX/covidData/nonCovid/test/._NORMAL2-IM-0776-0001.jpeg  \n",
            "  inflating: covidData/nonCovid/test/NORMAL2-IM-0468-0001.jpeg  \n",
            "  inflating: __MACOSX/covidData/nonCovid/test/._NORMAL2-IM-0468-0001.jpeg  \n",
            "  inflating: covidData/nonCovid/test/NORMAL2-IM-0718-0001.jpeg  \n",
            "  inflating: __MACOSX/covidData/nonCovid/test/._NORMAL2-IM-0718-0001.jpeg  \n",
            "  inflating: covidData/nonCovid/test/NORMAL2-IM-0587-0001-0001.jpeg  \n",
            "  inflating: __MACOSX/covidData/nonCovid/test/._NORMAL2-IM-0587-0001-0001.jpeg  \n",
            "  inflating: covidData/nonCovid/test/NORMAL2-IM-1090-0001.jpeg  \n",
            "  inflating: __MACOSX/covidData/nonCovid/test/._NORMAL2-IM-1090-0001.jpeg  \n",
            "  inflating: covidData/nonCovid/test/NORMAL2-IM-0814-0001.jpeg  \n",
            "  inflating: __MACOSX/covidData/nonCovid/test/._NORMAL2-IM-0814-0001.jpeg  \n",
            "  inflating: covidData/nonCovid/test/IM-0722-0001.jpeg  \n",
            "  inflating: __MACOSX/covidData/nonCovid/test/._IM-0722-0001.jpeg  \n",
            "  inflating: covidData/nonCovid/test/IM-0670-0001.jpeg  \n",
            "  inflating: __MACOSX/covidData/nonCovid/test/._IM-0670-0001.jpeg  \n",
            "  inflating: covidData/nonCovid/test/NORMAL2-IM-0611-0001.jpeg  \n",
            "  inflating: __MACOSX/covidData/nonCovid/test/._NORMAL2-IM-0611-0001.jpeg  \n",
            "  inflating: covidData/nonCovid/test/NORMAL2-IM-0923-0001.jpeg  \n",
            "  inflating: __MACOSX/covidData/nonCovid/test/._NORMAL2-IM-0923-0001.jpeg  \n",
            "  inflating: covidData/nonCovid/test/NORMAL2-IM-0660-0001.jpeg  \n",
            "  inflating: __MACOSX/covidData/nonCovid/test/._NORMAL2-IM-0660-0001.jpeg  \n",
            "  inflating: covidData/nonCovid/test/NORMAL2-IM-1067-0001.jpeg  \n",
            "  inflating: __MACOSX/covidData/nonCovid/test/._NORMAL2-IM-1067-0001.jpeg  \n",
            "  inflating: covidData/nonCovid/test/IM-0766-0001.jpeg  \n",
            "  inflating: __MACOSX/covidData/nonCovid/test/._IM-0766-0001.jpeg  \n",
            "  inflating: covidData/nonCovid/test/NORMAL2-IM-0707-0001.jpeg  \n",
            "  inflating: __MACOSX/covidData/nonCovid/test/._NORMAL2-IM-0707-0001.jpeg  \n",
            "  inflating: covidData/nonCovid/test/IM-0666-0001-0001.jpeg  \n",
            "  inflating: __MACOSX/covidData/nonCovid/test/._IM-0666-0001-0001.jpeg  \n",
            "  inflating: covidData/nonCovid/test/NORMAL2-IM-1379-0001.jpeg  \n",
            "  inflating: __MACOSX/covidData/nonCovid/test/._NORMAL2-IM-1379-0001.jpeg  \n",
            "  inflating: covidData/nonCovid/test/NORMAL2-IM-0416-0001-0001.jpeg  \n",
            "  inflating: __MACOSX/covidData/nonCovid/test/._NORMAL2-IM-0416-0001-0001.jpeg  \n",
            "  inflating: covidData/nonCovid/test/NORMAL2-IM-0525-0001.jpeg  \n",
            "  inflating: __MACOSX/covidData/nonCovid/test/._NORMAL2-IM-0525-0001.jpeg  \n",
            "  inflating: covidData/nonCovid/test/IM-0634-0001.jpeg  \n",
            "  inflating: __MACOSX/covidData/nonCovid/test/._IM-0634-0001.jpeg  \n",
            "  inflating: covidData/nonCovid/test/NORMAL2-IM-1245-0001.jpeg  \n",
            "  inflating: __MACOSX/covidData/nonCovid/test/._NORMAL2-IM-1245-0001.jpeg  \n",
            "  inflating: covidData/nonCovid/test/NORMAL2-IM-0617-0001.jpeg  \n",
            "  inflating: __MACOSX/covidData/nonCovid/test/._NORMAL2-IM-0617-0001.jpeg  \n",
            "  inflating: covidData/nonCovid/test/IM-0657-0001.jpeg  \n",
            "  inflating: __MACOSX/covidData/nonCovid/test/._IM-0657-0001.jpeg  \n",
            "  inflating: covidData/nonCovid/test/NORMAL2-IM-1010-0001.jpeg  \n",
            "  inflating: __MACOSX/covidData/nonCovid/test/._NORMAL2-IM-1010-0001.jpeg  \n",
            "  inflating: covidData/nonCovid/test/IM-0649-0001.jpeg  \n",
            "  inflating: __MACOSX/covidData/nonCovid/test/._IM-0649-0001.jpeg  \n",
            "  inflating: covidData/nonCovid/test/NORMAL2-IM-1020-0001-0002.jpeg  \n",
            "  inflating: __MACOSX/covidData/nonCovid/test/._NORMAL2-IM-1020-0001-0002.jpeg  \n",
            "  inflating: covidData/nonCovid/test/NORMAL2-IM-0700-0001.jpeg  \n",
            "  inflating: __MACOSX/covidData/nonCovid/test/._NORMAL2-IM-0700-0001.jpeg  \n",
            "  inflating: covidData/nonCovid/test/NORMAL2-IM-1256-0001.jpeg  \n",
            "  inflating: __MACOSX/covidData/nonCovid/test/._NORMAL2-IM-1256-0001.jpeg  \n",
            "  inflating: covidData/nonCovid/test/NORMAL2-IM-0876-0001.jpeg  \n",
            "  inflating: __MACOSX/covidData/nonCovid/test/._NORMAL2-IM-0876-0001.jpeg  \n",
            "  inflating: covidData/nonCovid/test/IM-0740-0001.jpeg  \n",
            "  inflating: __MACOSX/covidData/nonCovid/test/._IM-0740-0001.jpeg  \n",
            "  inflating: covidData/nonCovid/test/NORMAL2-IM-1396-0001.jpeg  \n",
            "  inflating: __MACOSX/covidData/nonCovid/test/._NORMAL2-IM-1396-0001.jpeg  \n",
            "  inflating: covidData/nonCovid/test/NORMAL2-IM-0851-0001-0001.jpeg  \n",
            "  inflating: __MACOSX/covidData/nonCovid/test/._NORMAL2-IM-0851-0001-0001.jpeg  \n",
            "  inflating: covidData/nonCovid/test/NORMAL2-IM-1221-0001.jpeg  \n",
            "  inflating: __MACOSX/covidData/nonCovid/test/._NORMAL2-IM-1221-0001.jpeg  \n",
            "  inflating: covidData/nonCovid/test/NORMAL2-IM-1151-0001.jpeg  \n",
            "  inflating: __MACOSX/covidData/nonCovid/test/._NORMAL2-IM-1151-0001.jpeg  \n",
            "  inflating: covidData/nonCovid/test/NORMAL2-IM-0682-0001.jpeg  \n",
            "  inflating: __MACOSX/covidData/nonCovid/test/._NORMAL2-IM-0682-0001.jpeg  \n",
            "  inflating: covidData/nonCovid/test/NORMAL2-IM-0588-0001.jpeg  \n",
            "  inflating: __MACOSX/covidData/nonCovid/test/._NORMAL2-IM-0588-0001.jpeg  \n",
            "  inflating: covidData/nonCovid/test/NORMAL2-IM-0541-0001.jpeg  \n",
            "  inflating: __MACOSX/covidData/nonCovid/test/._NORMAL2-IM-0541-0001.jpeg  \n",
            "  inflating: covidData/nonCovid/test/IM-0665-0001.jpeg  \n",
            "  inflating: __MACOSX/covidData/nonCovid/test/._IM-0665-0001.jpeg  \n",
            "  inflating: covidData/nonCovid/test/NORMAL2-IM-0870-0001.jpeg  \n",
            "  inflating: __MACOSX/covidData/nonCovid/test/._NORMAL2-IM-0870-0001.jpeg  \n",
            "  inflating: covidData/nonCovid/test/IM-0728-0001.jpeg  \n",
            "  inflating: __MACOSX/covidData/nonCovid/test/._IM-0728-0001.jpeg  \n",
            "  inflating: covidData/nonCovid/test/NORMAL2-IM-1266-0001-0002.jpeg  \n",
            "  inflating: __MACOSX/covidData/nonCovid/test/._NORMAL2-IM-1266-0001-0002.jpeg  \n",
            "  inflating: covidData/nonCovid/test/NORMAL2-IM-0439-0001.jpeg  \n",
            "  inflating: __MACOSX/covidData/nonCovid/test/._NORMAL2-IM-0439-0001.jpeg  \n",
            "  inflating: covidData/nonCovid/test/NORMAL2-IM-1244-0001.jpeg  \n",
            "  inflating: __MACOSX/covidData/nonCovid/test/._NORMAL2-IM-1244-0001.jpeg  \n",
            "  inflating: covidData/nonCovid/test/NORMAL2-IM-1302-0001.jpeg  \n",
            "  inflating: __MACOSX/covidData/nonCovid/test/._NORMAL2-IM-1302-0001.jpeg  \n",
            "  inflating: covidData/nonCovid/test/NORMAL2-IM-0418-0001.jpeg  \n",
            "  inflating: __MACOSX/covidData/nonCovid/test/._NORMAL2-IM-0418-0001.jpeg  \n",
            "  inflating: covidData/nonCovid/test/NORMAL2-IM-0903-0001.jpeg  \n",
            "  inflating: __MACOSX/covidData/nonCovid/test/._NORMAL2-IM-0903-0001.jpeg  \n",
            "  inflating: covidData/nonCovid/test/NORMAL2-IM-1154-0001-0002.jpeg  \n",
            "  inflating: __MACOSX/covidData/nonCovid/test/._NORMAL2-IM-1154-0001-0002.jpeg  \n",
            "  inflating: covidData/nonCovid/test/NORMAL2-IM-0941-0001.jpeg  \n",
            "  inflating: __MACOSX/covidData/nonCovid/test/._NORMAL2-IM-0941-0001.jpeg  \n",
            "  inflating: covidData/nonCovid/test/NORMAL2-IM-0487-0001.jpeg  \n",
            "  inflating: __MACOSX/covidData/nonCovid/test/._NORMAL2-IM-0487-0001.jpeg  \n",
            "  inflating: covidData/nonCovid/test/NORMAL2-IM-1118-0001.jpeg  \n",
            "  inflating: __MACOSX/covidData/nonCovid/test/._NORMAL2-IM-1118-0001.jpeg  \n",
            "  inflating: covidData/nonCovid/test/NORMAL2-IM-0659-0001.jpeg  \n",
            "  inflating: __MACOSX/covidData/nonCovid/test/._NORMAL2-IM-0659-0001.jpeg  \n",
            "  inflating: covidData/nonCovid/test/NORMAL2-IM-0974-0001.jpeg  \n",
            "  inflating: __MACOSX/covidData/nonCovid/test/._NORMAL2-IM-0974-0001.jpeg  \n",
            "  inflating: covidData/nonCovid/test/NORMAL2-IM-1005-0001.jpeg  \n",
            "  inflating: __MACOSX/covidData/nonCovid/test/._NORMAL2-IM-1005-0001.jpeg  \n",
            "  inflating: covidData/nonCovid/test/NORMAL2-IM-0848-0001.jpeg  \n",
            "  inflating: __MACOSX/covidData/nonCovid/test/._NORMAL2-IM-0848-0001.jpeg  \n",
            "  inflating: covidData/nonCovid/test/NORMAL2-IM-0637-0001.jpeg  \n",
            "  inflating: __MACOSX/covidData/nonCovid/test/._NORMAL2-IM-0637-0001.jpeg  \n",
            "  inflating: covidData/nonCovid/test/NORMAL2-IM-0547-0001.jpeg  \n",
            "  inflating: __MACOSX/covidData/nonCovid/test/._NORMAL2-IM-0547-0001.jpeg  \n",
            "  inflating: covidData/nonCovid/test/IM-0656-0001.jpeg  \n",
            "  inflating: __MACOSX/covidData/nonCovid/test/._IM-0656-0001.jpeg  \n",
            "  inflating: covidData/nonCovid/test/NORMAL2-IM-0826-0001.jpeg  \n",
            "  inflating: __MACOSX/covidData/nonCovid/test/._NORMAL2-IM-0826-0001.jpeg  \n",
            "  inflating: covidData/nonCovid/train/IM-0388-0001.jpeg  \n",
            "  inflating: __MACOSX/covidData/nonCovid/train/._IM-0388-0001.jpeg  \n",
            "  inflating: covidData/nonCovid/train/IM-0605-0001.jpeg  \n",
            "  inflating: __MACOSX/covidData/nonCovid/train/._IM-0605-0001.jpeg  \n",
            "  inflating: covidData/nonCovid/train/IM-0119-0001.jpeg  \n",
            "  inflating: __MACOSX/covidData/nonCovid/train/._IM-0119-0001.jpeg  \n",
            "  inflating: covidData/nonCovid/train/IM-0156-0001.jpeg  \n",
            "  inflating: __MACOSX/covidData/nonCovid/train/._IM-0156-0001.jpeg  \n",
            "  inflating: covidData/nonCovid/train/IM-0270-0001.jpeg  \n",
            "  inflating: __MACOSX/covidData/nonCovid/train/._IM-0270-0001.jpeg  \n",
            "  inflating: covidData/nonCovid/train/IM-0502-0001.jpeg  \n",
            "  inflating: __MACOSX/covidData/nonCovid/train/._IM-0502-0001.jpeg  \n",
            "  inflating: covidData/nonCovid/train/IM-0578-0001.jpeg  \n",
            "  inflating: __MACOSX/covidData/nonCovid/train/._IM-0578-0001.jpeg  \n",
            "  inflating: covidData/nonCovid/train/IM-0465-0001.jpeg  \n",
            "  inflating: __MACOSX/covidData/nonCovid/train/._IM-0465-0001.jpeg  \n",
            "  inflating: covidData/nonCovid/train/IM-0303-0001.jpeg  \n",
            "  inflating: __MACOSX/covidData/nonCovid/train/._IM-0303-0001.jpeg  \n",
            "  inflating: covidData/nonCovid/train/IM-0245-0001.jpeg  \n",
            "  inflating: __MACOSX/covidData/nonCovid/train/._IM-0245-0001.jpeg  \n",
            "  inflating: covidData/nonCovid/train/IM-0372-0001.jpeg  \n",
            "  inflating: __MACOSX/covidData/nonCovid/train/._IM-0372-0001.jpeg  \n",
            "  inflating: covidData/nonCovid/train/IM-0439-0001-0002.jpeg  \n",
            "  inflating: __MACOSX/covidData/nonCovid/train/._IM-0439-0001-0002.jpeg  \n",
            "  inflating: covidData/nonCovid/train/IM-0329-0001.jpeg  \n",
            "  inflating: __MACOSX/covidData/nonCovid/train/._IM-0329-0001.jpeg  \n",
            "  inflating: covidData/nonCovid/train/IM-0596-0001.jpeg  \n",
            "  inflating: __MACOSX/covidData/nonCovid/train/._IM-0596-0001.jpeg  \n",
            "  inflating: covidData/nonCovid/train/IM-0551-0001-0002.jpeg  \n",
            "  inflating: __MACOSX/covidData/nonCovid/train/._IM-0551-0001-0002.jpeg  \n",
            "  inflating: covidData/nonCovid/train/IM-0239-0001.jpeg  \n",
            "  inflating: __MACOSX/covidData/nonCovid/train/._IM-0239-0001.jpeg  \n",
            "  inflating: covidData/nonCovid/train/IM-0525-0001.jpeg  \n",
            "  inflating: __MACOSX/covidData/nonCovid/train/._IM-0525-0001.jpeg  \n",
            "  inflating: covidData/nonCovid/train/IM-0262-0001.jpeg  \n",
            "  inflating: __MACOSX/covidData/nonCovid/train/._IM-0262-0001.jpeg  \n",
            "  inflating: covidData/nonCovid/train/IM-0438-0001.jpeg  \n",
            "  inflating: __MACOSX/covidData/nonCovid/train/._IM-0438-0001.jpeg  \n",
            "  inflating: covidData/nonCovid/train/IM-0442-0001.jpeg  \n",
            "  inflating: __MACOSX/covidData/nonCovid/train/._IM-0442-0001.jpeg  \n",
            "  inflating: covidData/nonCovid/train/IM-0432-0001.jpeg  \n",
            "  inflating: __MACOSX/covidData/nonCovid/train/._IM-0432-0001.jpeg  \n",
            "  inflating: covidData/nonCovid/train/IM-0268-0001.jpeg  \n",
            "  inflating: __MACOSX/covidData/nonCovid/train/._IM-0268-0001.jpeg  \n",
            "  inflating: covidData/nonCovid/train/IM-0389-0001.jpeg  \n",
            "  inflating: __MACOSX/covidData/nonCovid/train/._IM-0389-0001.jpeg  \n",
            "  inflating: covidData/nonCovid/train/IM-0588-0001.jpeg  \n",
            "  inflating: __MACOSX/covidData/nonCovid/train/._IM-0588-0001.jpeg  \n",
            "  inflating: covidData/nonCovid/train/IM-0413-0001.jpeg  \n",
            "  inflating: __MACOSX/covidData/nonCovid/train/._IM-0413-0001.jpeg  \n",
            "  inflating: covidData/nonCovid/train/IM-0429-0001-0002.jpeg  \n",
            "  inflating: __MACOSX/covidData/nonCovid/train/._IM-0429-0001-0002.jpeg  \n",
            "  inflating: covidData/nonCovid/train/IM-0323-0001.jpeg  \n",
            "  inflating: __MACOSX/covidData/nonCovid/train/._IM-0323-0001.jpeg  \n",
            "  inflating: covidData/nonCovid/train/IM-0522-0001.jpeg  \n",
            "  inflating: __MACOSX/covidData/nonCovid/train/._IM-0522-0001.jpeg  \n",
            "  inflating: covidData/nonCovid/train/IM-0309-0001.jpeg  \n",
            "  inflating: __MACOSX/covidData/nonCovid/train/._IM-0309-0001.jpeg  \n",
            "  inflating: covidData/nonCovid/train/IM-0623-0001.jpeg  \n",
            "  inflating: __MACOSX/covidData/nonCovid/train/._IM-0623-0001.jpeg  \n",
            "  inflating: covidData/nonCovid/train/IM-0566-0001.jpeg  \n",
            "  inflating: __MACOSX/covidData/nonCovid/train/._IM-0566-0001.jpeg  \n",
            "  inflating: covidData/nonCovid/train/IM-0523-0001-0002.jpeg  \n",
            "  inflating: __MACOSX/covidData/nonCovid/train/._IM-0523-0001-0002.jpeg  \n",
            "  inflating: covidData/nonCovid/train/IM-0511-0001.jpeg  \n",
            "  inflating: __MACOSX/covidData/nonCovid/train/._IM-0511-0001.jpeg  \n",
            "  inflating: covidData/nonCovid/train/IM-0140-0001.jpeg  \n",
            "  inflating: __MACOSX/covidData/nonCovid/train/._IM-0140-0001.jpeg  \n",
            "  inflating: covidData/nonCovid/train/IM-0362-0001.jpeg  \n",
            "  inflating: __MACOSX/covidData/nonCovid/train/._IM-0362-0001.jpeg  \n",
            "  inflating: covidData/nonCovid/train/IM-0563-0001.jpeg  \n",
            "  inflating: __MACOSX/covidData/nonCovid/train/._IM-0563-0001.jpeg  \n",
            "  inflating: covidData/nonCovid/train/IM-0409-0001.jpeg  \n",
            "  inflating: __MACOSX/covidData/nonCovid/train/._IM-0409-0001.jpeg  \n",
            "  inflating: covidData/nonCovid/train/IM-0320-0001.jpeg  \n",
            "  inflating: __MACOSX/covidData/nonCovid/train/._IM-0320-0001.jpeg  \n",
            "  inflating: covidData/nonCovid/train/IM-0565-0001.jpeg  \n",
            "  inflating: __MACOSX/covidData/nonCovid/train/._IM-0565-0001.jpeg  \n",
            "  inflating: covidData/nonCovid/train/IM-0274-0001.jpeg  \n",
            "  inflating: __MACOSX/covidData/nonCovid/train/._IM-0274-0001.jpeg  \n",
            "  inflating: covidData/nonCovid/train/IM-0527-0001.jpeg  \n",
            "  inflating: __MACOSX/covidData/nonCovid/train/._IM-0527-0001.jpeg  \n",
            "  inflating: covidData/nonCovid/train/IM-0549-0001.jpeg  \n",
            "  inflating: __MACOSX/covidData/nonCovid/train/._IM-0549-0001.jpeg  \n",
            "  inflating: covidData/nonCovid/train/IM-0405-0001.jpeg  \n",
            "  inflating: __MACOSX/covidData/nonCovid/train/._IM-0405-0001.jpeg  \n",
            "  inflating: covidData/nonCovid/train/IM-0539-0001.jpeg  \n",
            "  inflating: __MACOSX/covidData/nonCovid/train/._IM-0539-0001.jpeg  \n",
            "  inflating: covidData/nonCovid/train/IM-0231-0001.jpeg  \n",
            "  inflating: __MACOSX/covidData/nonCovid/train/._IM-0231-0001.jpeg  \n",
            "  inflating: covidData/nonCovid/train/IM-0612-0001-0001.jpeg  \n",
            "  inflating: __MACOSX/covidData/nonCovid/train/._IM-0612-0001-0001.jpeg  \n",
            "  inflating: covidData/nonCovid/train/IM-0608-0001-0001.jpeg  \n",
            "  inflating: __MACOSX/covidData/nonCovid/train/._IM-0608-0001-0001.jpeg  \n",
            "  inflating: covidData/nonCovid/train/IM-0122-0001.jpeg  \n",
            "  inflating: __MACOSX/covidData/nonCovid/train/._IM-0122-0001.jpeg  \n",
            "  inflating: covidData/nonCovid/train/IM-0466-0001.jpeg  \n",
            "  inflating: __MACOSX/covidData/nonCovid/train/._IM-0466-0001.jpeg  \n",
            "  inflating: covidData/nonCovid/train/IM-0300-0001.jpeg  \n",
            "  inflating: __MACOSX/covidData/nonCovid/train/._IM-0300-0001.jpeg  \n",
            "  inflating: covidData/nonCovid/train/IM-0614-0001.jpeg  \n",
            "  inflating: __MACOSX/covidData/nonCovid/train/._IM-0614-0001.jpeg  \n",
            "  inflating: covidData/nonCovid/train/IM-0564-0001.jpeg  \n",
            "  inflating: __MACOSX/covidData/nonCovid/train/._IM-0564-0001.jpeg  \n",
            "  inflating: covidData/nonCovid/train/IM-0403-0001.jpeg  \n",
            "  inflating: __MACOSX/covidData/nonCovid/train/._IM-0403-0001.jpeg  \n",
            "  inflating: covidData/nonCovid/train/IM-0545-0001.jpeg  \n",
            "  inflating: __MACOSX/covidData/nonCovid/train/._IM-0545-0001.jpeg  \n",
            "  inflating: covidData/nonCovid/train/IM-0417-0001.jpeg  \n",
            "  inflating: __MACOSX/covidData/nonCovid/train/._IM-0417-0001.jpeg  \n",
            "  inflating: covidData/nonCovid/train/IM-0327-0001.jpeg  \n",
            "  inflating: __MACOSX/covidData/nonCovid/train/._IM-0327-0001.jpeg  \n",
            "  inflating: covidData/nonCovid/train/IM-0532-0001.jpeg  \n",
            "  inflating: __MACOSX/covidData/nonCovid/train/._IM-0532-0001.jpeg  \n",
            "  inflating: covidData/nonCovid/train/IM-0545-0001-0001.jpeg  \n",
            "  inflating: __MACOSX/covidData/nonCovid/train/._IM-0545-0001-0001.jpeg  \n",
            "  inflating: covidData/covid/test/9fdd3c3032296fd04d2cad5d9070d4_jumbo.jpeg  \n",
            "  inflating: __MACOSX/covidData/covid/test/._9fdd3c3032296fd04d2cad5d9070d4_jumbo.jpeg  \n",
            "  inflating: covidData/covid/test/16669_3_1.jpeg  \n",
            "  inflating: __MACOSX/covidData/covid/test/._16669_3_1.jpeg  \n",
            "  inflating: covidData/covid/test/16663_1_1.jpg  \n",
            "  inflating: __MACOSX/covidData/covid/test/._16663_1_1.jpg  \n",
            "  inflating: covidData/covid/test/b0f1684d1ee90dc09deef015e29dae_jumbo.jpeg  \n",
            "  inflating: __MACOSX/covidData/covid/test/._b0f1684d1ee90dc09deef015e29dae_jumbo.jpeg  \n",
            "  inflating: covidData/covid/test/covid-19-pneumonia-22-day2-pa.png  \n",
            "  inflating: __MACOSX/covidData/covid/test/._covid-19-pneumonia-22-day2-pa.png  \n",
            "  inflating: covidData/covid/test/8FDE8DBA-CFBD-4B4C-B1A4-6F36A93B7E87.jpeg  \n",
            "  inflating: __MACOSX/covidData/covid/test/._8FDE8DBA-CFBD-4B4C-B1A4-6F36A93B7E87.jpeg  \n",
            "  inflating: covidData/covid/test/2cd63b76.jpg  \n",
            "  inflating: __MACOSX/covidData/covid/test/._2cd63b76.jpg  \n",
            "  inflating: covidData/covid/test/7C69C012-7479-493F-8722-ABC29C60A2DD.jpeg  \n",
            "  inflating: __MACOSX/covidData/covid/test/._7C69C012-7479-493F-8722-ABC29C60A2DD.jpeg  \n",
            "  inflating: covidData/covid/test/1052b0fe.jpg  \n",
            "  inflating: __MACOSX/covidData/covid/test/._1052b0fe.jpg  \n",
            "  inflating: covidData/covid/test/41182_2020_203_Fig3_HTML.jpg  \n",
            "  inflating: __MACOSX/covidData/covid/test/._41182_2020_203_Fig3_HTML.jpg  \n",
            "  inflating: covidData/covid/test/16953_5_1.jpg  \n",
            "  inflating: __MACOSX/covidData/covid/test/._16953_5_1.jpg  \n",
            "  inflating: covidData/covid/test/covid-19-caso-94-1-14.png  \n",
            "  inflating: __MACOSX/covidData/covid/test/._covid-19-caso-94-1-14.png  \n",
            "  inflating: covidData/covid/test/covid-19-pneumonia-7-PA.jpg  \n",
            "  inflating: __MACOSX/covidData/covid/test/._covid-19-pneumonia-7-PA.jpg  \n",
            "  inflating: covidData/covid/test/covid-19-caso-82-1-8.png  \n",
            "  inflating: __MACOSX/covidData/covid/test/._covid-19-caso-82-1-8.png  \n",
            "  inflating: covidData/covid/test/covid-19-caso-95-1-15.png  \n",
            "  inflating: __MACOSX/covidData/covid/test/._covid-19-caso-95-1-15.png  \n",
            "  inflating: covidData/covid/test/16660_2_1.jpg  \n",
            "  inflating: __MACOSX/covidData/covid/test/._16660_2_1.jpg  \n",
            "  inflating: covidData/covid/test/covid-19-caso-95-3-14.png  \n",
            "  inflating: __MACOSX/covidData/covid/test/._covid-19-caso-95-3-14.png  \n",
            "  inflating: covidData/covid/test/12941_2020_358_Fig1_HTML.jpg  \n",
            "  inflating: __MACOSX/covidData/covid/test/._12941_2020_358_Fig1_HTML.jpg  \n",
            "  inflating: covidData/covid/test/.DS_Store  \n",
            "  inflating: __MACOSX/covidData/covid/test/._.DS_Store  \n",
            "  inflating: covidData/covid/test/covid-19-pneumonia-30-PA.jpg  \n",
            "  inflating: __MACOSX/covidData/covid/test/._covid-19-pneumonia-30-PA.jpg  \n",
            "  inflating: covidData/covid/test/23E99E2E-447C-46E5-8EB2-D35D12473C39.png  \n",
            "  inflating: __MACOSX/covidData/covid/test/._23E99E2E-447C-46E5-8EB2-D35D12473C39.png  \n",
            "  inflating: covidData/covid/test/40779_2020_233_Fig2_HTML-a.png  \n",
            "  inflating: __MACOSX/covidData/covid/test/._40779_2020_233_Fig2_HTML-a.png  \n",
            "  inflating: covidData/covid/test/article_river_e4d185c06e3511eaa2321d8ab357a1de-c1mn.png  \n",
            "  inflating: __MACOSX/covidData/covid/test/._article_river_e4d185c06e3511eaa2321d8ab357a1de-c1mn.png  \n",
            "  inflating: covidData/covid/test/7-fatal-covid19.jpg  \n",
            "  inflating: __MACOSX/covidData/covid/test/._7-fatal-covid19.jpg  \n",
            "  inflating: covidData/covid/test/5f619d7e.jpg  \n",
            "  inflating: __MACOSX/covidData/covid/test/._5f619d7e.jpg  \n",
            "  inflating: covidData/covid/test/covid-19-pneumonia-14-PA.png  \n",
            "  inflating: __MACOSX/covidData/covid/test/._covid-19-pneumonia-14-PA.png  \n",
            "  inflating: covidData/covid/test/7afaaccc.jpg  \n",
            "  inflating: __MACOSX/covidData/covid/test/._7afaaccc.jpg  \n",
            "  inflating: covidData/covid/test/10.1016-slash-j.anl.2020.04.002-a.png  \n",
            "  inflating: __MACOSX/covidData/covid/test/._10.1016-slash-j.anl.2020.04.002-a.png  \n",
            "  inflating: covidData/covid/test/19abe1f3.jpg  \n",
            "  inflating: __MACOSX/covidData/covid/test/._19abe1f3.jpg  \n",
            "  inflating: covidData/covid/test/auntminnie-a-2020_01_28_23_51_6665_2020_01_28_Vietnam_coronavirus.jpeg  \n",
            "  inflating: __MACOSX/covidData/covid/test/._auntminnie-a-2020_01_28_23_51_6665_2020_01_28_Vietnam_coronavirus.jpeg  \n",
            "  inflating: covidData/covid/test/16672_1_1.jpg  \n",
            "  inflating: __MACOSX/covidData/covid/test/._16672_1_1.jpg  \n",
            "  inflating: covidData/covid/test/c601f50d.jpg  \n",
            "  inflating: __MACOSX/covidData/covid/test/._c601f50d.jpg  \n",
            "  inflating: covidData/covid/test/16953_3_1.jpg  \n",
            "  inflating: __MACOSX/covidData/covid/test/._16953_3_1.jpg  \n",
            "  inflating: covidData/covid/test/16660_4_1.jpg  \n",
            "  inflating: __MACOSX/covidData/covid/test/._16660_4_1.jpg  \n",
            "  inflating: covidData/covid/test/16708_4_1.jpg  \n",
            "  inflating: __MACOSX/covidData/covid/test/._16708_4_1.jpg  \n",
            "  inflating: covidData/covid/test/41379_2020_536_Fig2_HTML-c1.png  \n",
            "  inflating: __MACOSX/covidData/covid/test/._41379_2020_536_Fig2_HTML-c1.png  \n",
            "  inflating: covidData/covid/test/16747_1_1.jpg  \n",
            "  inflating: __MACOSX/covidData/covid/test/._16747_1_1.jpg  \n",
            "  inflating: covidData/covid/test/1-s2.0-S2387020620301959-gr4_lrg-b.png  \n",
            "  inflating: __MACOSX/covidData/covid/test/._1-s2.0-S2387020620301959-gr4_lrg-b.png  \n",
            "  inflating: covidData/covid/test/1141cc2b8b9cc394becce5d978b5a7_jumbo.jpeg  \n",
            "  inflating: __MACOSX/covidData/covid/test/._1141cc2b8b9cc394becce5d978b5a7_jumbo.jpeg  \n",
            "  inflating: covidData/covid/test/covid-19-pneumonia-35-1.jpg  \n",
            "  inflating: __MACOSX/covidData/covid/test/._covid-19-pneumonia-35-1.jpg  \n",
            "  inflating: covidData/covid/test/2168a917.jpg  \n",
            "  inflating: __MACOSX/covidData/covid/test/._2168a917.jpg  \n",
            "  inflating: covidData/covid/test/16953_4_1.jpg  \n",
            "  inflating: __MACOSX/covidData/covid/test/._16953_4_1.jpg  \n",
            "  inflating: covidData/covid/test/16660_3_1.jpg  \n",
            "  inflating: __MACOSX/covidData/covid/test/._16660_3_1.jpg  \n",
            "  inflating: covidData/covid/test/4e43e48d52c9e2d4c6c1fb9bc1544f_jumbo.jpeg  \n",
            "  inflating: __MACOSX/covidData/covid/test/._4e43e48d52c9e2d4c6c1fb9bc1544f_jumbo.jpeg  \n",
            "  inflating: covidData/covid/test/1-s2.0-S2387020620301959-gr4_lrg-c.png  \n",
            "  inflating: __MACOSX/covidData/covid/test/._1-s2.0-S2387020620301959-gr4_lrg-c.png  \n",
            "  inflating: covidData/covid/test/14d81f378173b86cc53f21d2d67040_jumbo.jpeg  \n",
            "  inflating: __MACOSX/covidData/covid/test/._14d81f378173b86cc53f21d2d67040_jumbo.jpeg  \n",
            "  inflating: covidData/covid/test/a361d7b7.jpg  \n",
            "  inflating: __MACOSX/covidData/covid/test/._a361d7b7.jpg  \n",
            "  inflating: covidData/covid/test/covid-19-pneumonia-35-2.jpg  \n",
            "  inflating: __MACOSX/covidData/covid/test/._covid-19-pneumonia-35-2.jpg  \n",
            "  inflating: covidData/covid/test/16660_1_1.jpg  \n",
            "  inflating: __MACOSX/covidData/covid/test/._16660_1_1.jpg  \n",
            "  inflating: covidData/covid/test/16708_1_1.jpg  \n",
            "  inflating: __MACOSX/covidData/covid/test/._16708_1_1.jpg  \n",
            "  inflating: covidData/covid/test/covid-19-pneumonia-20-pa-on-admission.jpg  \n",
            "  inflating: __MACOSX/covidData/covid/test/._covid-19-pneumonia-20-pa-on-admission.jpg  \n",
            "  inflating: covidData/covid/test/1B734A89-A1BF-49A8-A1D3-66FAFA4FAC5D.jpeg  \n",
            "  inflating: __MACOSX/covidData/covid/test/._1B734A89-A1BF-49A8-A1D3-66FAFA4FAC5D.jpeg  \n",
            "  inflating: covidData/covid/test/0a7faa2a.jpg  \n",
            "  inflating: __MACOSX/covidData/covid/test/._0a7faa2a.jpg  \n",
            "  inflating: covidData/covid/test/covid-19-pneumonia-28.png  \n",
            "  inflating: __MACOSX/covidData/covid/test/._covid-19-pneumonia-28.png  \n",
            "  inflating: covidData/covid/test/auntminnie-c-2020_01_28_23_51_6665_2020_01_28_Vietnam_coronavirus.jpeg  \n",
            "  inflating: __MACOSX/covidData/covid/test/._auntminnie-c-2020_01_28_23_51_6665_2020_01_28_Vietnam_coronavirus.jpeg  \n",
            "  inflating: covidData/covid/test/03BF7561-A9BA-4C3C-B8A0-D3E585F73F3C.jpeg  \n",
            "  inflating: __MACOSX/covidData/covid/test/._03BF7561-A9BA-4C3C-B8A0-D3E585F73F3C.jpeg  \n",
            "  inflating: covidData/covid/test/16745_5_1.png  \n",
            "  inflating: __MACOSX/covidData/covid/test/._16745_5_1.png  \n",
            "  inflating: covidData/covid/test/c0f74558.jpg  \n",
            "  inflating: __MACOSX/covidData/covid/test/._c0f74558.jpg  \n",
            "  inflating: covidData/covid/test/1.CXRCTThoraximagesofCOVID-19fromSingapore.pdf-001-fig2b.png  \n",
            "  inflating: __MACOSX/covidData/covid/test/._1.CXRCTThoraximagesofCOVID-19fromSingapore.pdf-001-fig2b.png  \n",
            "  inflating: covidData/covid/test/82a78c13.jpg  \n",
            "  inflating: __MACOSX/covidData/covid/test/._82a78c13.jpg  \n",
            "  inflating: covidData/covid/test/AR-2.jpg  \n",
            "  inflating: __MACOSX/covidData/covid/test/._AR-2.jpg  \n",
            "  inflating: covidData/covid/test/auntminnie-b-2020_01_28_23_51_6665_2020_01_28_Vietnam_coronavirus.jpeg  \n",
            "  inflating: __MACOSX/covidData/covid/test/._auntminnie-b-2020_01_28_23_51_6665_2020_01_28_Vietnam_coronavirus.jpeg  \n",
            "  inflating: covidData/covid/test/3b46de94.jpg  \n",
            "  inflating: __MACOSX/covidData/covid/test/._3b46de94.jpg  \n",
            "  inflating: covidData/covid/test/16660_5_1.jpg  \n",
            "  inflating: __MACOSX/covidData/covid/test/._16660_5_1.jpg  \n",
            "  inflating: covidData/covid/test/16708_5_1.jpg  \n",
            "  inflating: __MACOSX/covidData/covid/test/._16708_5_1.jpg  \n",
            "  inflating: covidData/covid/test/16865_1_1.jpg  \n",
            "  inflating: __MACOSX/covidData/covid/test/._16865_1_1.jpg  \n",
            "  inflating: covidData/covid/test/41182_2020_203_Fig4_HTML.jpg  \n",
            "  inflating: __MACOSX/covidData/covid/test/._41182_2020_203_Fig4_HTML.jpg  \n",
            "  inflating: covidData/covid/test/41182_2020_203_Fig5_HTML.jpg  \n",
            "  inflating: __MACOSX/covidData/covid/test/._41182_2020_203_Fig5_HTML.jpg  \n",
            "  inflating: covidData/covid/test/2-chest-filmc.jpg  \n",
            "  inflating: __MACOSX/covidData/covid/test/._2-chest-filmc.jpg  \n",
            "  inflating: covidData/covid/test/1.CXRCTThoraximagesofCOVID-19fromSingapore.pdf-001-fig2a.png  \n",
            "  inflating: __MACOSX/covidData/covid/test/._1.CXRCTThoraximagesofCOVID-19fromSingapore.pdf-001-fig2a.png  \n",
            "  inflating: covidData/covid/test/AR-1.jpg  \n",
            "  inflating: __MACOSX/covidData/covid/test/._AR-1.jpg  \n",
            "  inflating: covidData/covid/test/88de9d8c39e946abd495b37cd07d89e5-6531-0.jpg  \n",
            "  inflating: __MACOSX/covidData/covid/test/._88de9d8c39e946abd495b37cd07d89e5-6531-0.jpg  \n",
            "  inflating: covidData/covid/test/90986ce4.jpg  \n",
            "  inflating: __MACOSX/covidData/covid/test/._90986ce4.jpg  \n",
            "  inflating: covidData/covid/test/1-s2.0-S1684118220300682-main.pdf-002-a1.png  \n",
            "  inflating: __MACOSX/covidData/covid/test/._1-s2.0-S1684118220300682-main.pdf-002-a1.png  \n",
            "  inflating: covidData/covid/test/1-s2.0-S2214250920300834-gr1_lrg-b.png  \n",
            "  inflating: __MACOSX/covidData/covid/test/._1-s2.0-S2214250920300834-gr1_lrg-b.png  \n",
            "  inflating: covidData/covid/test/1.CXRCTThoraximagesofCOVID-19fromSingapore.pdf-002-fig3a.png  \n",
            "  inflating: __MACOSX/covidData/covid/test/._1.CXRCTThoraximagesofCOVID-19fromSingapore.pdf-002-fig3a.png  \n",
            "  inflating: covidData/covid/test/ciaa199.pdf-001-b.png  \n",
            "  inflating: __MACOSX/covidData/covid/test/._ciaa199.pdf-001-b.png  \n",
            "  inflating: covidData/covid/test/6CB4EFC6-68FA-4CD5-940C-BEFA8DAFE9A7.jpeg  \n",
            "  inflating: __MACOSX/covidData/covid/test/._6CB4EFC6-68FA-4CD5-940C-BEFA8DAFE9A7.jpeg  \n",
            "  inflating: covidData/covid/test/1-s2.0-S2214250920300834-gr1_lrg-c.png  \n",
            "  inflating: __MACOSX/covidData/covid/test/._1-s2.0-S2214250920300834-gr1_lrg-c.png  \n",
            "  inflating: covidData/covid/test/ac4f6e4e.jpg  \n",
            "  inflating: __MACOSX/covidData/covid/test/._ac4f6e4e.jpg  \n",
            "  inflating: covidData/covid/test/ae6c954c0039de4b5edee53865ffee43-e6c8-0.jpg  \n",
            "  inflating: __MACOSX/covidData/covid/test/._ae6c954c0039de4b5edee53865ffee43-e6c8-0.jpg  \n",
            "  inflating: covidData/covid/test/41591_2020_819_Fig1_HTML.webp-day10.png  \n",
            "  inflating: __MACOSX/covidData/covid/test/._41591_2020_819_Fig1_HTML.webp-day10.png  \n",
            "  inflating: covidData/covid/test/a8ac1969.jpg  \n",
            "  inflating: __MACOSX/covidData/covid/test/._a8ac1969.jpg  \n",
            "  inflating: covidData/covid/test/bb0e626a.jpg  \n",
            "  inflating: __MACOSX/covidData/covid/test/._bb0e626a.jpg  \n",
            "  inflating: covidData/covid/test/2edb88df42cab5e5fbc18b3965e0bd_jumbo.jpeg  \n",
            "  inflating: __MACOSX/covidData/covid/test/._2edb88df42cab5e5fbc18b3965e0bd_jumbo.jpeg  \n",
            "  inflating: covidData/covid/test/9C34AF49-E589-44D5-92D3-168B3B04E4A6.jpeg  \n",
            "  inflating: __MACOSX/covidData/covid/test/._9C34AF49-E589-44D5-92D3-168B3B04E4A6.jpeg  \n",
            "  inflating: covidData/covid/test/1-s2.0-S1684118220300682-main.pdf-002-a2.png  \n",
            "  inflating: __MACOSX/covidData/covid/test/._1-s2.0-S1684118220300682-main.pdf-002-a2.png  \n",
            "  inflating: covidData/covid/test/BMJ-37-163-g1.jpg  \n",
            "  inflating: __MACOSX/covidData/covid/test/._BMJ-37-163-g1.jpg  \n",
            "  inflating: covidData/covid/test/1-s2.0-S0140673620303706-fx1_lrg.jpg  \n",
            "  inflating: __MACOSX/covidData/covid/test/._1-s2.0-S0140673620303706-fx1_lrg.jpg  \n",
            "  inflating: covidData/covid/test/1.CXRCTThoraximagesofCOVID-19fromSingapore.pdf-002-fig3b.png  \n",
            "  inflating: __MACOSX/covidData/covid/test/._1.CXRCTThoraximagesofCOVID-19fromSingapore.pdf-002-fig3b.png  \n",
            "  inflating: covidData/covid/test/bd10d5e2.jpg  \n",
            "  inflating: __MACOSX/covidData/covid/test/._bd10d5e2.jpg  \n",
            "  inflating: covidData/covid/test/53EC07C9-5CC6-4BE4-9B6F-D7B0D72AAA7E.jpeg  \n",
            "  inflating: __MACOSX/covidData/covid/test/._53EC07C9-5CC6-4BE4-9B6F-D7B0D72AAA7E.jpeg  \n",
            "  inflating: covidData/covid/test/ciaa199.pdf-001-a.png  \n",
            "  inflating: __MACOSX/covidData/covid/test/._ciaa199.pdf-001-a.png  \n",
            "  inflating: covidData/covid/test/covid-19-pneumonia-20.jpg  \n",
            "  inflating: __MACOSX/covidData/covid/test/._covid-19-pneumonia-20.jpg  \n",
            "  inflating: covidData/covid/test/16664_1_1.jpg  \n",
            "  inflating: __MACOSX/covidData/covid/test/._16664_1_1.jpg  \n",
            "  inflating: covidData/covid/test/covid-19-infection-exclusive-gastrointestinal-symptoms-pa.png  \n",
            "  inflating: __MACOSX/covidData/covid/test/._covid-19-infection-exclusive-gastrointestinal-symptoms-pa.png  \n",
            "  inflating: covidData/covid/test/1312A392-67A3-4EBF-9319-810CF6DA5EF6.jpeg  \n",
            "  inflating: __MACOSX/covidData/covid/test/._1312A392-67A3-4EBF-9319-810CF6DA5EF6.jpeg  \n",
            "  inflating: covidData/covid/test/88de9d8c39e946abd495b37cd07d89e5-2ee6-0.jpg  \n",
            "  inflating: __MACOSX/covidData/covid/test/._88de9d8c39e946abd495b37cd07d89e5-2ee6-0.jpg  \n",
            "  inflating: covidData/covid/test/01E392EE-69F9-4E33-BFCE-E5C968654078.jpeg  \n",
            "  inflating: __MACOSX/covidData/covid/test/._01E392EE-69F9-4E33-BFCE-E5C968654078.jpeg  \n",
            "  inflating: covidData/covid/test/93FE0BB1-022D-4F24-9727-987A07975FFB.jpeg  \n",
            "  inflating: __MACOSX/covidData/covid/test/._93FE0BB1-022D-4F24-9727-987A07975FFB.jpeg  \n",
            "  inflating: covidData/covid/test/441c9cdd.jpg  \n",
            "  inflating: __MACOSX/covidData/covid/test/._441c9cdd.jpg  \n",
            "  inflating: covidData/covid/test/6C94A287-C059-46A0-8600-AFB95F4727B7.jpeg  \n",
            "  inflating: __MACOSX/covidData/covid/test/._6C94A287-C059-46A0-8600-AFB95F4727B7.jpeg  \n",
            "  inflating: covidData/covid/test/covid-19-pneumonia-22-day1-pa.png  \n",
            "  inflating: __MACOSX/covidData/covid/test/._covid-19-pneumonia-22-day1-pa.png  \n",
            "  inflating: covidData/covid/test/2966893D-5DDF-4B68-9E2B-4979D5956C8E.jpeg  \n",
            "  inflating: __MACOSX/covidData/covid/test/._2966893D-5DDF-4B68-9E2B-4979D5956C8E.jpeg  \n",
            "  inflating: covidData/covid/test/1.CXRCTThoraximagesofCOVID-19fromSingapore.pdf-003-fig4a.png  \n",
            "  inflating: __MACOSX/covidData/covid/test/._1.CXRCTThoraximagesofCOVID-19fromSingapore.pdf-003-fig4a.png  \n",
            "  inflating: covidData/covid/test/4d98e1de.jpg  \n",
            "  inflating: __MACOSX/covidData/covid/test/._4d98e1de.jpg  \n",
            "  inflating: covidData/covid/test/10.1016-slash-j.crad.2020.04.002-b.png  \n",
            "  inflating: __MACOSX/covidData/covid/test/._10.1016-slash-j.crad.2020.04.002-b.png  \n",
            "  inflating: covidData/covid/test/a2eba651.jpg  \n",
            "  inflating: __MACOSX/covidData/covid/test/._a2eba651.jpg  \n",
            "  inflating: covidData/covid/test/all14238-fig-0001-m-b.jpg  \n",
            "  inflating: __MACOSX/covidData/covid/test/._all14238-fig-0001-m-b.jpg  \n",
            "  inflating: covidData/covid/test/covid-19-pneumonia-15-PA.jpg  \n",
            "  inflating: __MACOSX/covidData/covid/test/._covid-19-pneumonia-15-PA.jpg  \n",
            "  inflating: covidData/covid/test/covid-19-pneumonia-8.jpg  \n",
            "  inflating: __MACOSX/covidData/covid/test/._covid-19-pneumonia-8.jpg  \n",
            "  inflating: covidData/covid/test/all14238-fig-0001-m-c.jpg  \n",
            "  inflating: __MACOSX/covidData/covid/test/._all14238-fig-0001-m-c.jpg  \n",
            "  inflating: covidData/covid/test/c3829ecb.jpg  \n",
            "  inflating: __MACOSX/covidData/covid/test/._c3829ecb.jpg  \n",
            "  inflating: covidData/covid/test/1.CXRCTThoraximagesofCOVID-19fromSingapore.pdf-003-fig4b.png  \n",
            "  inflating: __MACOSX/covidData/covid/test/._1.CXRCTThoraximagesofCOVID-19fromSingapore.pdf-003-fig4b.png  \n",
            "  inflating: covidData/covid/test/353889E0-A1E8-4F9E-A0B8-F24F36BCFBFB.jpeg  \n",
            "  inflating: __MACOSX/covidData/covid/test/._353889E0-A1E8-4F9E-A0B8-F24F36BCFBFB.jpeg  \n",
            "  inflating: covidData/covid/test/10.1016-slash-j.crad.2020.04.002-a.png  \n",
            "  inflating: __MACOSX/covidData/covid/test/._10.1016-slash-j.crad.2020.04.002-a.png  \n",
            "  inflating: covidData/covid/test/80446565-E090-4187-A031-9D3CEAA586C8.jpeg  \n",
            "  inflating: __MACOSX/covidData/covid/test/._80446565-E090-4187-A031-9D3CEAA586C8.jpeg  \n",
            "  inflating: covidData/covid/test/1.CXRCTThoraximagesofCOVID-19fromSingapore.pdf-000-fig1a.png  \n",
            "  inflating: __MACOSX/covidData/covid/test/._1.CXRCTThoraximagesofCOVID-19fromSingapore.pdf-000-fig1a.png  \n",
            "  inflating: covidData/covid/test/2C26F453-AF3B-4517-BB9E-802CF2179543.jpeg  \n",
            "  inflating: __MACOSX/covidData/covid/test/._2C26F453-AF3B-4517-BB9E-802CF2179543.jpeg  \n",
            "  inflating: covidData/covid/test/5782ae15.jpg  \n",
            "  inflating: __MACOSX/covidData/covid/test/._5782ae15.jpg  \n",
            "  inflating: covidData/covid/test/6b44464d-73a7-4cf3-bbb6-ffe7168300e3.annot.original.jpeg  \n",
            "  inflating: __MACOSX/covidData/covid/test/._6b44464d-73a7-4cf3-bbb6-ffe7168300e3.annot.original.jpeg  \n",
            "  inflating: covidData/covid/test/48c4542c.jpg  \n",
            "  inflating: __MACOSX/covidData/covid/test/._48c4542c.jpg  \n",
            "  inflating: covidData/covid/test/6b3bdbc31f65230b8cdcc3cef5f8ba8a-40ac-0.jpg  \n",
            "  inflating: __MACOSX/covidData/covid/test/._6b3bdbc31f65230b8cdcc3cef5f8ba8a-40ac-0.jpg  \n",
            "  inflating: covidData/covid/test/1.CXRCTThoraximagesofCOVID-19fromSingapore.pdf-000-fig1b.png  \n",
            "  inflating: __MACOSX/covidData/covid/test/._1.CXRCTThoraximagesofCOVID-19fromSingapore.pdf-000-fig1b.png  \n",
            "  inflating: covidData/covid/test/7AF6C1AF-D249-4BD2-8C26-449304105D03.jpeg  \n",
            "  inflating: __MACOSX/covidData/covid/test/._7AF6C1AF-D249-4BD2-8C26-449304105D03.jpeg  \n",
            "  inflating: covidData/covid/test/8fc103ca.jpg  \n",
            "  inflating: __MACOSX/covidData/covid/test/._8fc103ca.jpg  \n",
            "  inflating: covidData/covid/test/auntminnie-d-2020_01_28_23_51_6665_2020_01_28_Vietnam_coronavirus.jpeg  \n",
            "  inflating: __MACOSX/covidData/covid/test/._auntminnie-d-2020_01_28_23_51_6665_2020_01_28_Vietnam_coronavirus.jpeg  \n",
            "  inflating: covidData/covid/test/8da14fff.jpg  \n",
            "  inflating: __MACOSX/covidData/covid/test/._8da14fff.jpg  \n",
            "  inflating: covidData/covid/test/58cb9263f16e94305c730685358e4e_jumbo.jpeg  \n",
            "  inflating: __MACOSX/covidData/covid/test/._58cb9263f16e94305c730685358e4e_jumbo.jpeg  \n",
            "  inflating: covidData/covid/test/covid-19-caso-70-1-PA.jpg  \n",
            "  inflating: __MACOSX/covidData/covid/test/._covid-19-caso-70-1-PA.jpg  \n",
            "  inflating: covidData/covid/test/covid-19-caso-91-1-12.png  \n",
            "  inflating: __MACOSX/covidData/covid/test/._covid-19-caso-91-1-12.png  \n",
            "  inflating: covidData/covid/test/1-s2.0-S1684118220300608-main.pdf-001.jpg  \n",
            "  inflating: __MACOSX/covidData/covid/test/._1-s2.0-S1684118220300608-main.pdf-001.jpg  \n",
            "  inflating: covidData/covid/test/CD50BA96-6982-4C80-AE7B-5F67ACDBFA56.jpeg  \n",
            "  inflating: __MACOSX/covidData/covid/test/._CD50BA96-6982-4C80-AE7B-5F67ACDBFA56.jpeg  \n",
            "  inflating: covidData/covid/test/41591_2020_819_Fig1_HTML.webp-day5.png  \n",
            "  inflating: __MACOSX/covidData/covid/test/._41591_2020_819_Fig1_HTML.webp-day5.png  \n",
            "  inflating: covidData/covid/test/1-s2.0-S1684118220300682-main.pdf-003-b1.png  \n",
            "  inflating: __MACOSX/covidData/covid/test/._1-s2.0-S1684118220300682-main.pdf-003-b1.png  \n",
            "  inflating: covidData/covid/test/1-s2.0-S1684118220300608-main.pdf-002.jpg  \n",
            "  inflating: __MACOSX/covidData/covid/test/._1-s2.0-S1684118220300608-main.pdf-002.jpg  \n",
            "  inflating: covidData/covid/test/80b5f00f.jpg  \n",
            "  inflating: __MACOSX/covidData/covid/test/._80b5f00f.jpg  \n",
            "  inflating: covidData/covid/test/b9673e89.jpg  \n",
            "  inflating: __MACOSX/covidData/covid/test/._b9673e89.jpg  \n",
            "  inflating: covidData/covid/test/1-s2.0-S1684118220300682-main.pdf-003-b2.png  \n",
            "  inflating: __MACOSX/covidData/covid/test/._1-s2.0-S1684118220300682-main.pdf-003-b2.png  \n",
            "  inflating: covidData/covid/train/f6d980a0.jpg  \n",
            "  inflating: __MACOSX/covidData/covid/train/._f6d980a0.jpg  \n",
            "  inflating: covidData/covid/train/covid-19-pneumonia-rapidly-progressive-3-days.jpg  \n",
            "  inflating: __MACOSX/covidData/covid/train/._covid-19-pneumonia-rapidly-progressive-3-days.jpg  \n",
            "  inflating: covidData/covid/train/extubation-8.jpg  \n",
            "  inflating: __MACOSX/covidData/covid/train/._extubation-8.jpg  \n",
            "  inflating: covidData/covid/train/covid-19-pneumonia-rapidly-progressive-12-hours.jpg  \n",
            "  inflating: __MACOSX/covidData/covid/train/._covid-19-pneumonia-rapidly-progressive-12-hours.jpg  \n",
            "  inflating: covidData/covid/train/d009d61f.jpg  \n",
            "  inflating: __MACOSX/covidData/covid/train/._d009d61f.jpg  \n",
            "  inflating: covidData/covid/train/nejmoa2001191_f5-PA.jpeg  \n",
            "  inflating: __MACOSX/covidData/covid/train/._nejmoa2001191_f5-PA.jpeg  \n",
            "  inflating: covidData/covid/train/nejmc2001573_f1a.jpeg  \n",
            "  inflating: __MACOSX/covidData/covid/train/._nejmc2001573_f1a.jpeg  \n",
            "  inflating: covidData/covid/train/f64132c8.jpg  \n",
            "  inflating: __MACOSX/covidData/covid/train/._f64132c8.jpg  \n",
            "  inflating: covidData/covid/train/covid-19-pneumonia-44-day-0.jpeg  \n",
            "  inflating: __MACOSX/covidData/covid/train/._covid-19-pneumonia-44-day-0.jpeg  \n",
            "  inflating: covidData/covid/train/extubation-13.jpg  \n",
            "  inflating: __MACOSX/covidData/covid/train/._extubation-13.jpg  \n",
            "  inflating: covidData/covid/train/radiol.2020200274.fig3d.png  \n",
            "  inflating: __MACOSX/covidData/covid/train/._radiol.2020200274.fig3d.png  \n",
            "  inflating: covidData/covid/train/covid-19-rapidly-progressive-acute-respiratory-distress-syndrome-ards-day-2.jpg  \n",
            "  inflating: __MACOSX/covidData/covid/train/._covid-19-rapidly-progressive-acute-respiratory-distress-syndrome-ards-day-2.jpg  \n",
            "  inflating: covidData/covid/train/ryct.2020200034.fig5-day4.jpeg  \n",
            "  inflating: __MACOSX/covidData/covid/train/._ryct.2020200034.fig5-day4.jpeg  \n",
            "  inflating: covidData/covid/train/covid-19-rapidly-progressive-acute-respiratory-distress-syndrome-ards-day-3.jpg  \n",
            "  inflating: __MACOSX/covidData/covid/train/._covid-19-rapidly-progressive-acute-respiratory-distress-syndrome-ards-day-3.jpg  \n",
            "  inflating: covidData/covid/train/lancet-case2a.jpg  \n",
            "  inflating: __MACOSX/covidData/covid/train/._lancet-case2a.jpg  \n",
            "  inflating: covidData/covid/train/covid-19-pneumonia-38-pa.jpg  \n",
            "  inflating: __MACOSX/covidData/covid/train/._covid-19-pneumonia-38-pa.jpg  \n",
            "  inflating: covidData/covid/train/nCoV-radiol.2020200269.fig1-day7.jpeg  \n",
            "  inflating: __MACOSX/covidData/covid/train/._nCoV-radiol.2020200269.fig1-day7.jpeg  \n",
            "  inflating: covidData/covid/train/figure1-5e75d0940b71e1b702629659-98-right.jpeg  \n",
            "  inflating: __MACOSX/covidData/covid/train/._figure1-5e75d0940b71e1b702629659-98-right.jpeg  \n",
            "  inflating: covidData/covid/train/covid-19-rapidly-progressive-acute-respiratory-distress-syndrome-ards-day-1.jpg  \n",
            "  inflating: __MACOSX/covidData/covid/train/._covid-19-rapidly-progressive-acute-respiratory-distress-syndrome-ards-day-1.jpg  \n",
            "  inflating: covidData/covid/train/covid-19-pneumonia-evolution-over-a-week-1-day0-PA.jpg  \n",
            "  inflating: __MACOSX/covidData/covid/train/._covid-19-pneumonia-evolution-over-a-week-1-day0-PA.jpg  \n",
            "  inflating: covidData/covid/train/lancet-case2b.jpg  \n",
            "  inflating: __MACOSX/covidData/covid/train/._lancet-case2b.jpg  \n",
            "  inflating: covidData/covid/train/ryct.2020003.fig2-b.png  \n",
            "  inflating: __MACOSX/covidData/covid/train/._ryct.2020003.fig2-b.png  \n",
            "  inflating: covidData/covid/train/covid-19-pneumonia-rapidly-progressive-admission.jpg  \n",
            "  inflating: __MACOSX/covidData/covid/train/._covid-19-pneumonia-rapidly-progressive-admission.jpg  \n",
            "  inflating: covidData/covid/train/paving.jpg  \n",
            "  inflating: __MACOSX/covidData/covid/train/._paving.jpg  \n",
            "  inflating: covidData/covid/train/ryct.2020003.fig2-c.png  \n",
            "  inflating: __MACOSX/covidData/covid/train/._ryct.2020003.fig2-c.png  \n",
            "  inflating: covidData/covid/train/gr1_lrg-a.jpg  \n",
            "  inflating: __MACOSX/covidData/covid/train/._gr1_lrg-a.jpg  \n",
            "  inflating: covidData/covid/train/e1446fe8.jpg  \n",
            "  inflating: __MACOSX/covidData/covid/train/._e1446fe8.jpg  \n",
            "  inflating: covidData/covid/train/ryct.2020003.fig2-a.png  \n",
            "  inflating: __MACOSX/covidData/covid/train/._ryct.2020003.fig2-a.png  \n",
            "  inflating: covidData/covid/train/E63574A7-4188-4C8D-8D17-9D67A18A1AFA.jpeg  \n",
            "  inflating: __MACOSX/covidData/covid/train/._E63574A7-4188-4C8D-8D17-9D67A18A1AFA.jpeg  \n",
            "  inflating: covidData/covid/train/radiol.2020200490.fig3.jpeg  \n",
            "  inflating: __MACOSX/covidData/covid/train/._radiol.2020200490.fig3.jpeg  \n",
            "  inflating: covidData/covid/train/gr1_lrg-b.jpg  \n",
            "  inflating: __MACOSX/covidData/covid/train/._gr1_lrg-b.jpg  \n",
            "  inflating: covidData/covid/train/ryct.2020200028.fig1a.jpeg  \n",
            "  inflating: __MACOSX/covidData/covid/train/._ryct.2020200028.fig1a.jpeg  \n",
            "  inflating: covidData/covid/train/kjr-21-e25-g001-l-a.jpg  \n",
            "  inflating: __MACOSX/covidData/covid/train/._kjr-21-e25-g001-l-a.jpg  \n",
            "  inflating: covidData/covid/train/FE9F9A5D-2830-46F9-851B-1FF4534959BE.jpeg  \n",
            "  inflating: __MACOSX/covidData/covid/train/._FE9F9A5D-2830-46F9-851B-1FF4534959BE.jpeg  \n",
            "  inflating: covidData/covid/train/f8335316.jpg  \n",
            "  inflating: __MACOSX/covidData/covid/train/._f8335316.jpg  \n",
            "  inflating: covidData/covid/train/nejmoa2001191_f3-PA.jpeg  \n",
            "  inflating: __MACOSX/covidData/covid/train/._nejmoa2001191_f3-PA.jpeg  \n",
            "  inflating: covidData/covid/train/thnov10p5641g006-c.png  \n",
            "  inflating: __MACOSX/covidData/covid/train/._thnov10p5641g006-c.png  \n",
            "  inflating: covidData/covid/train/ryct.2020200034.fig5-day7.jpeg  \n",
            "  inflating: __MACOSX/covidData/covid/train/._ryct.2020200034.fig5-day7.jpeg  \n",
            "  inflating: covidData/covid/train/d9d6ca9a.jpg  \n",
            "  inflating: __MACOSX/covidData/covid/train/._d9d6ca9a.jpg  \n",
            "  inflating: covidData/covid/train/nejmoa2001191_f4.jpeg  \n",
            "  inflating: __MACOSX/covidData/covid/train/._nejmoa2001191_f4.jpeg  \n",
            "  inflating: covidData/covid/train/extubation-1.jpg  \n",
            "  inflating: __MACOSX/covidData/covid/train/._extubation-1.jpg  \n",
            "  inflating: covidData/covid/train/f6575117.jpg  \n",
            "  inflating: __MACOSX/covidData/covid/train/._f6575117.jpg  \n",
            "  inflating: covidData/covid/train/figure1-5e71be566aa8714a04de3386-98-left.jpeg  \n",
            "  inflating: __MACOSX/covidData/covid/train/._figure1-5e71be566aa8714a04de3386-98-left.jpeg  \n",
            "  inflating: covidData/covid/train/nejmc2001573_f1b.jpeg  \n",
            "  inflating: __MACOSX/covidData/covid/train/._nejmc2001573_f1b.jpeg  \n",
            "  inflating: covidData/covid/train/yxppt-2020-02-19_00-51-27_287214-day8.jpg  \n",
            "  inflating: __MACOSX/covidData/covid/train/._yxppt-2020-02-19_00-51-27_287214-day8.jpg  \n",
            "  inflating: covidData/covid/train/nejmoa2001191_f1-PA.jpeg  \n",
            "  inflating: __MACOSX/covidData/covid/train/._nejmoa2001191_f1-PA.jpeg  \n",
            "  inflating: covidData/covid/train/ryct.2020200034.fig5-day0.jpeg  \n",
            "  inflating: __MACOSX/covidData/covid/train/._ryct.2020200034.fig5-day0.jpeg  \n",
            "  inflating: covidData/covid/train/ryct.2020200034.fig2.jpeg  \n",
            "  inflating: __MACOSX/covidData/covid/train/._ryct.2020200034.fig2.jpeg  \n",
            "  inflating: covidData/covid/train/tpmd200203f2-b.png  \n",
            "  inflating: __MACOSX/covidData/covid/train/._tpmd200203f2-b.png  \n",
            "  inflating: covidData/covid/train/covid-19-pneumonia-53.jpg  \n",
            "  inflating: __MACOSX/covidData/covid/train/._covid-19-pneumonia-53.jpg  \n",
            "  inflating: covidData/covid/train/F4341CE7-73C9-45C6-99C8-8567A5484B63.jpeg  \n",
            "  inflating: __MACOSX/covidData/covid/train/._F4341CE7-73C9-45C6-99C8-8567A5484B63.jpeg  \n",
            "  inflating: covidData/covid/train/tpmd200203f2-c.png  \n",
            "  inflating: __MACOSX/covidData/covid/train/._tpmd200203f2-c.png  \n",
            "  inflating: covidData/covid/train/covid-19-pneumonia-mild.JPG  \n",
            "  inflating: __MACOSX/covidData/covid/train/._covid-19-pneumonia-mild.JPG  \n",
            "  inflating: covidData/covid/train/ec083e35.jpg  \n",
            "  inflating: __MACOSX/covidData/covid/train/._ec083e35.jpg  \n",
            "  inflating: covidData/covid/train/fff49165-b22d-4bb4-b9d1-d5d62c52436c.annot.original.png  \n",
            "  inflating: __MACOSX/covidData/covid/train/._fff49165-b22d-4bb4-b9d1-d5d62c52436c.annot.original.png  \n",
            "  inflating: covidData/covid/train/extubation-4.jpg  \n",
            "  inflating: __MACOSX/covidData/covid/train/._extubation-4.jpg  \n",
            "  inflating: covidData/covid/train/covid-19-pneumonia-93.png  \n",
            "  inflating: __MACOSX/covidData/covid/train/._covid-19-pneumonia-93.png  \n",
            "  inflating: covidData/covid/train/covid-19-rapidly-progressive-acute-respiratory-distress-syndrome-ards-admission.jpg  \n",
            "  inflating: __MACOSX/covidData/covid/train/._covid-19-rapidly-progressive-acute-respiratory-distress-syndrome-ards-admission.jpg  \n"
          ]
        }
      ]
    },
    {
      "cell_type": "markdown",
      "source": [
        "## Now, after downloading the dataset and unzip it, I'm going to start prossing it."
      ],
      "metadata": {
        "id": "62x2N8j9Hv6a"
      }
    },
    {
      "cell_type": "code",
      "source": [
        "#importing the needed packages\n",
        "import numpy as np\n",
        "import matplotlib.pyplot as plt\n",
        "import keras\n",
        "from keras.layers import *\n",
        "from keras.models import *\n",
        "from keras.preprocessing import image\n",
        "import os\n",
        "import tensorflow as tf"
      ],
      "metadata": {
        "id": "Bs6-saNGg_7N"
      },
      "execution_count": null,
      "outputs": []
    },
    {
      "cell_type": "markdown",
      "source": [
        "Now, I'm going to bulid a sequential CNN model with binary cross entropy loss function."
      ],
      "metadata": {
        "id": "CLisMSbCIoDQ"
      }
    },
    {
      "cell_type": "code",
      "source": [
        "# building the model\n",
        "\n",
        "from keras.backend import conv2d\n",
        "model = Sequential()\n",
        "model.add(Conv2D(32,kernel_size=(3,3),activation='relu',input_shape=(224,224,3)))\n",
        "model.add(Conv2D(64,(3,3),activation='relu'))\n",
        "model.add(MaxPooling2D(pool_size=(2,2)))\n",
        "model.add(Dropout(0.25))\n",
        "\n",
        "model.add(Conv2D(64,(3,3),activation='relu'))\n",
        "model.add(MaxPooling2D(pool_size=(2,2)))\n",
        "model.add(Dropout(0.25))\n",
        "\n",
        "model.add(Conv2D(128,(3,3),activation='relu'))\n",
        "model.add(MaxPooling2D(pool_size=(2,2)))\n",
        "model.add(Dropout(0.25))\n",
        "\n",
        "model.add(Flatten())\n",
        "model.add(Dense(64,activation='relu'))\n",
        "model.add(Dropout(0.5))\n",
        "model.add(Dense(1,activation='sigmoid'))\n",
        "\n",
        "model.compile(loss=tf.keras.losses.BinaryCrossentropy(),optimizer='adam',metrics='accuracy')\n"
      ],
      "metadata": {
        "id": "CQ1LIFVWrASI"
      },
      "execution_count": null,
      "outputs": []
    },
    {
      "cell_type": "code",
      "source": [
        "# the structure of the model\n",
        "model.summary()"
      ],
      "metadata": {
        "colab": {
          "base_uri": "https://localhost:8080/"
        },
        "id": "L1q7QCB2uiyv",
        "outputId": "9882ed45-26aa-49d4-9893-5745c2396935"
      },
      "execution_count": null,
      "outputs": [
        {
          "output_type": "stream",
          "name": "stdout",
          "text": [
            "Model: \"sequential\"\n",
            "_________________________________________________________________\n",
            " Layer (type)                Output Shape              Param #   \n",
            "=================================================================\n",
            " conv2d (Conv2D)             (None, 222, 222, 32)      896       \n",
            "                                                                 \n",
            " conv2d_1 (Conv2D)           (None, 220, 220, 64)      18496     \n",
            "                                                                 \n",
            " max_pooling2d (MaxPooling2D  (None, 110, 110, 64)     0         \n",
            " )                                                               \n",
            "                                                                 \n",
            " dropout (Dropout)           (None, 110, 110, 64)      0         \n",
            "                                                                 \n",
            " conv2d_2 (Conv2D)           (None, 108, 108, 64)      36928     \n",
            "                                                                 \n",
            " max_pooling2d_1 (MaxPooling  (None, 54, 54, 64)       0         \n",
            " 2D)                                                             \n",
            "                                                                 \n",
            " dropout_1 (Dropout)         (None, 54, 54, 64)        0         \n",
            "                                                                 \n",
            " conv2d_3 (Conv2D)           (None, 52, 52, 128)       73856     \n",
            "                                                                 \n",
            " max_pooling2d_2 (MaxPooling  (None, 26, 26, 128)      0         \n",
            " 2D)                                                             \n",
            "                                                                 \n",
            " dropout_2 (Dropout)         (None, 26, 26, 128)       0         \n",
            "                                                                 \n",
            " flatten (Flatten)           (None, 86528)             0         \n",
            "                                                                 \n",
            " dense (Dense)               (None, 64)                5537856   \n",
            "                                                                 \n",
            " dropout_3 (Dropout)         (None, 64)                0         \n",
            "                                                                 \n",
            " dense_1 (Dense)             (None, 1)                 65        \n",
            "                                                                 \n",
            "=================================================================\n",
            "Total params: 5,668,097\n",
            "Trainable params: 5,668,097\n",
            "Non-trainable params: 0\n",
            "_________________________________________________________________\n"
          ]
        }
      ]
    },
    {
      "cell_type": "code",
      "source": [
        "# model training\n",
        "\n",
        "train_datagenrator = image.ImageDataGenerator(\n",
        "    rescale= 1./255,\n",
        "    shear_range=0.2,\n",
        "    zoom_range=0.2,\n",
        "    horizontal_flip= True\n",
        ")\n",
        "\n",
        "test_dataset = image.ImageDataGenerator(rescale=1./255)\n",
        "\n"
      ],
      "metadata": {
        "id": "_dLBSLhRunK4"
      },
      "execution_count": null,
      "outputs": []
    },
    {
      "cell_type": "markdown",
      "source": [
        "# Since I collected the data from some github repo and kaggle project and did the data anaylsis, warpping and cleaning using another jupter notebook it caught **.ipynb_checkpoints**.\n",
        "\n",
        "# Those files are hidden somewhere in the dataset and need to be deleted not to interfare with the data classes (covid : 0 , noncovid: 1 , ipynb_checkpoints: 2)\n",
        "\n",
        "*That's why I needed to use the following line of code.*"
      ],
      "metadata": {
        "id": "I6vlu5ZrJNrP"
      }
    },
    {
      "cell_type": "code",
      "source": [
        "rmdir /content/covidData/train/.ipynb_checkpoints"
      ],
      "metadata": {
        "id": "bL-_BKUf3HCN"
      },
      "execution_count": null,
      "outputs": []
    },
    {
      "cell_type": "code",
      "source": [
        "\n",
        "train_genrator = train_datagenrator.flow_from_directory(\n",
        "    'covidData/train',\n",
        "    target_size=(224,224),\n",
        "    batch_size= 32,\n",
        "    class_mode='binary'\n",
        ")"
      ],
      "metadata": {
        "colab": {
          "base_uri": "https://localhost:8080/"
        },
        "id": "-qDlRJqBwLHW",
        "outputId": "8fddb450-f9e3-46f6-9b54-762fea14fdf3"
      },
      "execution_count": null,
      "outputs": [
        {
          "output_type": "stream",
          "name": "stdout",
          "text": [
            "Found 276 images belonging to 2 classes.\n"
          ]
        }
      ]
    },
    {
      "cell_type": "code",
      "source": [
        "train_genrator.class_indices"
      ],
      "metadata": {
        "colab": {
          "base_uri": "https://localhost:8080/"
        },
        "id": "pfkeSXwdx-yy",
        "outputId": "ae65e9a5-54c1-40eb-c0c3-77121800f6a5"
      },
      "execution_count": null,
      "outputs": [
        {
          "output_type": "execute_result",
          "data": {
            "text/plain": [
              "{'covid': 0, 'nonCovid': 1}"
            ]
          },
          "metadata": {},
          "execution_count": 27
        }
      ]
    },
    {
      "cell_type": "code",
      "source": [
        "rmdir /content/covidData/test/.ipynb_checkpoints"
      ],
      "metadata": {
        "id": "tFWfsSgF4TF4"
      },
      "execution_count": null,
      "outputs": []
    },
    {
      "cell_type": "code",
      "source": [
        "test_genrator = test_dataset.flow_from_directory(\n",
        "    'covidData/test',\n",
        "    target_size=(224,224),\n",
        "    batch_size= 32,\n",
        "    class_mode='binary'\n",
        ")"
      ],
      "metadata": {
        "colab": {
          "base_uri": "https://localhost:8080/"
        },
        "id": "mwQhFM-QyQAd",
        "outputId": "0580354d-14a0-4021-b22d-a4bb87cf13e7"
      },
      "execution_count": null,
      "outputs": [
        {
          "output_type": "stream",
          "name": "stdout",
          "text": [
            "Found 116 images belonging to 2 classes.\n"
          ]
        }
      ]
    },
    {
      "cell_type": "code",
      "source": [
        "test_genrator.class_indices"
      ],
      "metadata": {
        "colab": {
          "base_uri": "https://localhost:8080/"
        },
        "id": "3AtDraPH4Y4A",
        "outputId": "3fa06129-96dc-4a4a-bf9f-dcb0b7317a66"
      },
      "execution_count": null,
      "outputs": [
        {
          "output_type": "execute_result",
          "data": {
            "text/plain": [
              "{'covid': 0, 'nonCovid': 1}"
            ]
          },
          "metadata": {},
          "execution_count": 30
        }
      ]
    },
    {
      "cell_type": "markdown",
      "source": [
        "## Starting the training phase though 10 epochs, where I found that 10 is the optimal number of epochs. "
      ],
      "metadata": {
        "id": "vqvoDX2ELbhE"
      }
    },
    {
      "cell_type": "code",
      "source": [
        "hist = model.fit_generator(\n",
        "    train_genrator,\n",
        "    steps_per_epoch=8,\n",
        "    epochs= 10,\n",
        "    validation_data= test_genrator,\n",
        "    validation_steps=2\n",
        ")"
      ],
      "metadata": {
        "colab": {
          "base_uri": "https://localhost:8080/"
        },
        "id": "xM3OEWnQ4d9s",
        "outputId": "b0d486c6-cb37-48af-bf05-b77ac552d051"
      },
      "execution_count": null,
      "outputs": [
        {
          "output_type": "stream",
          "name": "stderr",
          "text": [
            "/usr/local/lib/python3.7/dist-packages/ipykernel_launcher.py:6: UserWarning: `Model.fit_generator` is deprecated and will be removed in a future version. Please use `Model.fit`, which supports generators.\n",
            "  \n"
          ]
        },
        {
          "output_type": "stream",
          "name": "stdout",
          "text": [
            "Epoch 1/10\n",
            "8/8 [==============================] - 13s 2s/step - loss: 0.2607 - accuracy: 0.9180 - val_loss: 0.1708 - val_accuracy: 0.9688\n",
            "Epoch 2/10\n",
            "8/8 [==============================] - 12s 2s/step - loss: 0.3124 - accuracy: 0.8566 - val_loss: 0.1939 - val_accuracy: 0.9844\n",
            "Epoch 3/10\n",
            "8/8 [==============================] - 11s 1s/step - loss: 0.3543 - accuracy: 0.8525 - val_loss: 0.1410 - val_accuracy: 1.0000\n",
            "Epoch 4/10\n",
            "8/8 [==============================] - 11s 1s/step - loss: 0.3344 - accuracy: 0.8607 - val_loss: 0.2345 - val_accuracy: 0.9531\n",
            "Epoch 5/10\n",
            "8/8 [==============================] - 11s 1s/step - loss: 0.2796 - accuracy: 0.8893 - val_loss: 0.1640 - val_accuracy: 0.9688\n",
            "Epoch 6/10\n",
            "8/8 [==============================] - 11s 1s/step - loss: 0.3020 - accuracy: 0.8893 - val_loss: 0.2363 - val_accuracy: 0.9531\n",
            "Epoch 7/10\n",
            "8/8 [==============================] - 12s 1s/step - loss: 0.2648 - accuracy: 0.8934 - val_loss: 0.1030 - val_accuracy: 1.0000\n",
            "Epoch 8/10\n",
            "8/8 [==============================] - 11s 1s/step - loss: 0.2441 - accuracy: 0.8975 - val_loss: 0.1510 - val_accuracy: 0.9844\n",
            "Epoch 9/10\n",
            "8/8 [==============================] - 11s 1s/step - loss: 0.2771 - accuracy: 0.9062 - val_loss: 0.1533 - val_accuracy: 0.9844\n",
            "Epoch 10/10\n",
            "8/8 [==============================] - 12s 1s/step - loss: 0.2306 - accuracy: 0.8893 - val_loss: 0.0248 - val_accuracy: 1.0000\n"
          ]
        }
      ]
    },
    {
      "cell_type": "code",
      "source": [
        "model.save(\"model_adv.h5\")"
      ],
      "metadata": {
        "id": "m-1yt3P45SQQ"
      },
      "execution_count": null,
      "outputs": []
    },
    {
      "cell_type": "code",
      "source": [
        "model.evaluate_generator(train_genrator)"
      ],
      "metadata": {
        "colab": {
          "base_uri": "https://localhost:8080/"
        },
        "id": "wuXXHowg-MvO",
        "outputId": "da154e3d-e491-4389-a078-fd8d8a82d90e"
      },
      "execution_count": null,
      "outputs": [
        {
          "output_type": "stream",
          "name": "stderr",
          "text": [
            "/usr/local/lib/python3.7/dist-packages/ipykernel_launcher.py:1: UserWarning: `Model.evaluate_generator` is deprecated and will be removed in a future version. Please use `Model.evaluate`, which supports generators.\n",
            "  \"\"\"Entry point for launching an IPython kernel.\n"
          ]
        },
        {
          "output_type": "execute_result",
          "data": {
            "text/plain": [
              "[0.1470080316066742, 0.9528985619544983]"
            ]
          },
          "metadata": {},
          "execution_count": 46
        }
      ]
    },
    {
      "cell_type": "code",
      "source": [
        "model.evaluate_generator(test_genrator)"
      ],
      "metadata": {
        "colab": {
          "base_uri": "https://localhost:8080/"
        },
        "id": "tCSak0ke-ReE",
        "outputId": "9461b7c1-d099-42a6-9f1b-e5b361fb5966"
      },
      "execution_count": null,
      "outputs": [
        {
          "output_type": "stream",
          "name": "stderr",
          "text": [
            "/usr/local/lib/python3.7/dist-packages/ipykernel_launcher.py:1: UserWarning: `Model.evaluate_generator` is deprecated and will be removed in a future version. Please use `Model.evaluate`, which supports generators.\n",
            "  \"\"\"Entry point for launching an IPython kernel.\n"
          ]
        },
        {
          "output_type": "execute_result",
          "data": {
            "text/plain": [
              "[0.0695251077413559, 0.982758641242981]"
            ]
          },
          "metadata": {},
          "execution_count": 47
        }
      ]
    },
    {
      "cell_type": "markdown",
      "source": [
        "## Test Images"
      ],
      "metadata": {
        "id": "z9YMcwcj_kE3"
      }
    },
    {
      "cell_type": "code",
      "source": [
        "model = load_model('model_adv.h5')"
      ],
      "metadata": {
        "id": "HR3CbI0T-hbw"
      },
      "execution_count": null,
      "outputs": []
    },
    {
      "cell_type": "code",
      "source": [
        "train_genrator.class_indices"
      ],
      "metadata": {
        "colab": {
          "base_uri": "https://localhost:8080/"
        },
        "id": "K09pzBRV_v_r",
        "outputId": "e51cf543-951d-4a9b-eb88-f29fad5c8018"
      },
      "execution_count": null,
      "outputs": [
        {
          "output_type": "execute_result",
          "data": {
            "text/plain": [
              "{'covid': 0, 'nonCovid': 1}"
            ]
          },
          "metadata": {},
          "execution_count": 69
        }
      ]
    },
    {
      "cell_type": "code",
      "source": [
        "y_train = []\n",
        "y_test = []"
      ],
      "metadata": {
        "id": "tyL8GUoq_1Nj"
      },
      "execution_count": null,
      "outputs": []
    },
    {
      "cell_type": "markdown",
      "source": [
        "## starting the prediction process and build the data in arrays to use later in the confusion metrics"
      ],
      "metadata": {
        "id": "rZA95NJmMz52"
      }
    },
    {
      "cell_type": "code",
      "source": [
        "for i in os.listdir(\"./covidData/test/nonCovid/\"):\n",
        "  img = image.load_img(\"./covidData/test/nonCovid/\"+i,target_size=(224,224))\n",
        "  img = image.img_to_array(img)\n",
        "  img = np.expand_dims(img,axis=0)\n",
        "  p = model.predict(img) \n",
        "  y_test.append(p[0,0])\n",
        "  y_train.append(1)"
      ],
      "metadata": {
        "id": "PyhQqjwgAJNL"
      },
      "execution_count": null,
      "outputs": []
    },
    {
      "cell_type": "code",
      "source": [
        "for i in os.listdir(\"./covidData/test/covid/\"):\n",
        "  img = image.load_img(\"./covidData/test/covid/\"+i,target_size=(224,224))\n",
        "  img = image.img_to_array(img)\n",
        "  img = np.expand_dims(img,axis=0)\n",
        "  p = model.predict(img) \n",
        "  y_test.append(p[0,0])\n",
        "  y_train.append(0)"
      ],
      "metadata": {
        "id": "VEarBZlPB6rx"
      },
      "execution_count": null,
      "outputs": []
    },
    {
      "cell_type": "code",
      "source": [
        "\n",
        "y_train=np.array(y_train)\n",
        "y_test = np.array(y_test)"
      ],
      "metadata": {
        "id": "BGwZi6J3C07y"
      },
      "execution_count": null,
      "outputs": []
    },
    {
      "cell_type": "code",
      "source": [
        "from sklearn.metrics import confusion_matrix"
      ],
      "metadata": {
        "id": "i13U6g6xDHwn"
      },
      "execution_count": null,
      "outputs": []
    },
    {
      "cell_type": "code",
      "source": [
        "cm = confusion_matrix(y_train,y_test)"
      ],
      "metadata": {
        "id": "CrtyIW05DUq8"
      },
      "execution_count": null,
      "outputs": []
    },
    {
      "cell_type": "code",
      "source": [
        "import seaborn as sns\n",
        "sns.heatmap(cm,cmap=\"plasma\",annot=True)"
      ],
      "metadata": {
        "colab": {
          "base_uri": "https://localhost:8080/",
          "height": 282
        },
        "id": "g9WSt20KDgdw",
        "outputId": "d556a164-6fb4-4667-ee6d-be41d6a44cb4"
      },
      "execution_count": null,
      "outputs": [
        {
          "output_type": "execute_result",
          "data": {
            "text/plain": [
              "<matplotlib.axes._subplots.AxesSubplot at 0x7fef19a457d0>"
            ]
          },
          "metadata": {},
          "execution_count": 76
        },
        {
          "output_type": "display_data",
          "data": {
            "image/png": "[encoded data removed]",
            "text/plain": [
              "<Figure size 432x288 with 2 Axes>"
            ]
          },
          "metadata": {
            "needs_background": "light"
          }
        }
      ]
    },
    {
      "cell_type": "code",
      "source": [
        "Pneumonia Classifcation Using Deep Learning from Chest X‑ray\n",
        "Images During COVID‑19"
      ],
      "metadata": {
        "id": "Mcqj7NtFDxbA"
      },
      "execution_count": null,
      "outputs": []
    }
  ]
}